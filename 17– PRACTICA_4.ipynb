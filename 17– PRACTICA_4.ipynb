{
 "cells": [
  {
   "metadata": {},
   "cell_type": "markdown",
   "source": [
    "# 17 – Práctica 4: invirtiendo en la bolsa\n",
    "En esta práctica haremos uso de las sentencias de control vistas hasta el momento (if, while, for y break) para implementar un programa capaz de estimar las ganancias que tendremos al invertir en la bolsa.\n",
    "\n",
    "En particular nuestro programa será capaz de tomar un monto inicial de inversión junto con la tasa de interés esperada, calculará las ganancias obtenidas y detendrá su ejecución cuando las ganancias sean por lo menos iguales al monto inicial invertido.\n",
    "\n",
    "El programa debe considerar estos aspectos:\n",
    "\n",
    "1- El usuario definirá el monto invertido inicialmente y la tasa de interés mensual esperada\n",
    "2- Con esta información deberá calcular el saldo actualizado y deberá detener su ejecución cuando las ganancias superen el monto invertido inicialmente\n",
    "3- En pantalla debe imprimir la evolución del saldo y al finalizar imprimir la cantidad de meses requerida para lograr la meta"
   ],
   "id": "19993e6fe7835ac"
  },
  {
   "metadata": {},
   "cell_type": "markdown",
   "source": "## Implementando usando while",
   "id": "8ce3d33be5a21583"
  },
  {
   "metadata": {},
   "cell_type": "code",
   "source": [
    "# 1- Introducir saldo inicial\n",
    "# 2- Introducir la tasa de interés mensual\n",
    "# 3- ciclo \"while\" sobre las ganancias:\n",
    "    # 3.1- Actualizar el mes, el saldo y las ganancias\n",
    "    # 3.2- Imprimir en pantalla el mensaje en cada iteración\n",
    "# Imprimir el mensaje final\n",
    "\n",
    "# 1- Introducir el saldo inicial\n",
    "saldo_inicial = float(input(\"Introduzca el saldo inicial: \"))\n",
    "\n",
    "# 2- Introducir la tasa de interés mensual\n",
    "tasa_interes = input(\"Introduza la tasa de interés mensual en porcentaje (Ejemplo 0.8%): \")\n",
    "\n",
    "# 2a- Reajustar la cadena de texto \"tasa_interes\"\n",
    "tasa_interes = tasa_interes.replace(\"%\", \"\")\n",
    "tasa_interes = float(tasa_interes)\n",
    "\n",
    "# 3- While\n",
    "# 3a- Inicializar ganancias y mes\n",
    "saldo = saldo_inicial\n",
    "mes =  0\n",
    "ganancias = saldo - saldo_inicial\n",
    "\n",
    "while ganancias < saldo_inicial:\n",
    "    # 3.1- Actualizar mes, saldo y ganancias\n",
    "    mes += 1\n",
    "    saldo += saldo*tasa_interes/100\n",
    "    ganancias = saldo - saldo_inicial\n",
    "\n",
    "    # 3.2- Imprimir el mensaje indicando mes y saldo. Se agregó la expresión \"2f\" para que python haga un redondeo a 2 cifras decimales después del punto al momento de presentar el saldo\n",
    "    print(f'Mes: {mes}. Saldo: {saldo:.2f}')\n",
    "# 4- Imprimir el mensaje final\n",
    "print(f' Se requieren {mes} meses para que las ganancias sean igual al monto')"
   ],
   "id": "ada29fa4ffad8ff2",
   "outputs": [],
   "execution_count": null
  },
  {
   "metadata": {},
   "cell_type": "markdown",
   "source": "# Implementación usando for, if y break",
   "id": "4a1c39e7f8227c61"
  },
  {
   "metadata": {},
   "cell_type": "code",
   "source": [
    "# 1- Introducir saldo inicial\n",
    "# 2- Introducir la tasa de interés mensual\n",
    "# 3- ciclo \"for\" por un número preestablecidos de meses:\n",
    "    # 3.1- Actualizar el saldo y las ganancias\n",
    "    # 3.2- Detener ejecución del ciclo si las ganancias igualan el monto inicial\n",
    "    # 3.3- Imprimir en pantalla el mensaje en cada iteración\n",
    "# Imprimir el mensaje final\n",
    "\n",
    "# 1- Introducir el saldo inicial\n",
    "saldo_inicial = float(input(\"Introduzca el saldo inicial: \"))\n",
    "\n",
    "# 2- Introducir la tasa de interés mensual\n",
    "tasa_interes = input(\"Introduza la tasa de interés mensual en porcentaje (Ejemplo 0.8%): \")\n",
    "\n",
    "# 2a- Reajustar la cadena de texto \"tasa_interes\"\n",
    "tasa_interes = tasa_interes.replace(\"%\", \"\")\n",
    "tasa_interes = float(tasa_interes)\n",
    "\n",
    "# Ciclo \"for\"\n",
    "# 3a- Inicializar ganancias y el saldo\n",
    "saldo = saldo_inicial\n",
    "ganancias = saldo - saldo_inicial\n",
    "for mes in range(1,201):\n",
    "    # 3.1- Actualizar el saldo y las ganancias\n",
    "    saldo += saldo*tasa_interes/100\n",
    "    ganancias = saldo - saldo_inicial\n",
    "\n",
    "    # 3.2- Detener ejecución del ciclo si las ganancias igualan el monto inicial\n",
    "    if ganancias >= saldo_inicial:\n",
    "        print('Las ganacias son iguales o superiores al monto inicial')\n",
    "        break\n",
    "\n",
    "    # 3.3 Imprimir mensaje en pantalla\n",
    "    print(f'Mes: {mes}. Saldo: {saldo:.2f}')\n",
    "\n",
    "# 4- Imprimir el mensaje final\n",
    "print(f'Se requieren {mes} meses para que las ganancias sean igual al monto')"
   ],
   "id": "fabac14b0e43c330",
   "outputs": [],
   "execution_count": null
  },
  {
   "metadata": {},
   "cell_type": "code",
   "source": "",
   "id": "19ed9221a1ea443a",
   "outputs": [],
   "execution_count": null
  }
 ],
 "metadata": {
  "kernelspec": {
   "display_name": "Python 3",
   "language": "python",
   "name": "python3"
  },
  "language_info": {
   "codemirror_mode": {
    "name": "ipython",
    "version": 2
   },
   "file_extension": ".py",
   "mimetype": "text/x-python",
   "name": "python",
   "nbconvert_exporter": "python",
   "pygments_lexer": "ipython2",
   "version": "2.7.6"
  }
 },
 "nbformat": 4,
 "nbformat_minor": 5
}
