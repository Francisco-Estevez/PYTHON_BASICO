{
 "cells": [
  {
   "metadata": {},
   "cell_type": "markdown",
   "source": [
    "# 17 – Práctica 4: invirtiendo en la bolsa\n",
    "En esta práctica haremos uso de las sentencias de control vistas hasta el momento (if, while, for y break) para implementar un programa capaz de estimar las ganancias que tendremos al invertir en la bolsa.\n",
    "\n",
    "En particular nuestro programa será capaz de tomar un monto inicial de inversión junto con la tasa de interés esperada, calculará las ganancias obtenidas y detendrá su ejecución cuando las ganancias sean por lo menos iguales al monto inicial invertido.\n",
    "\n",
    "El programa debe considerar estos aspectos:\n",
    "\n",
    "1- El usuario definirá el monto invertido inicialmente y la tasa de interés mensual esperada\n",
    "2- Con esta información deberá calcular el saldo actualizado y deberá detener su ejecución cuando las ganancias superen el monto invertido inicialmente\n",
    "3- En pantalla debe imprimir la evolución del saldo y al finalizar imprimir la cantidad de meses requerida para lograr la meta"
   ],
   "id": "19993e6fe7835ac"
  },
  {
   "metadata": {},
   "cell_type": "markdown",
   "source": "## Implementando usando while",
   "id": "8ce3d33be5a21583"
  },
  {
   "metadata": {
    "ExecuteTime": {
     "end_time": "2025-01-16T20:43:04.489408Z",
     "start_time": "2025-01-16T20:42:50.232266Z"
    }
   },
   "cell_type": "code",
   "source": [
    "# 1- Introducir saldo inicial\n",
    "# 2- Introducir la tasa de interés mensual\n",
    "# 3- ciclo \"while\" sobre las ganancias:\n",
    "    # 3.1- Actualizar el mes, el saldo y las ganancias\n",
    "    # 3.2- Imprimir en pantalla el mensaje en cada iteración\n",
    "# Imprimir el mensaje final\n",
    "\n",
    "# Introducir el saldo inicial\n",
    "saldo_inicial = float(input(\"Introduzca el saldo inicial: \"))\n",
    "\n",
    "# Introducir la tasa de interés mensual\n",
    "tasa_interes = input(\"Introduza la tasa de interés mensual en porcentaje (Ejemplo 0.8%): \")"
   ],
   "id": "ada29fa4ffad8ff2",
   "outputs": [],
   "execution_count": 3
  },
  {
   "metadata": {
    "ExecuteTime": {
     "end_time": "2025-01-16T20:43:59.038066Z",
     "start_time": "2025-01-16T20:43:59.028558Z"
    }
   },
   "cell_type": "code",
   "source": "type(saldo_inicial)",
   "id": "1d4a174a015fe6ff",
   "outputs": [
    {
     "data": {
      "text/plain": [
       "float"
      ]
     },
     "execution_count": 4,
     "metadata": {},
     "output_type": "execute_result"
    }
   ],
   "execution_count": 4
  }
 ],
 "metadata": {
  "kernelspec": {
   "display_name": "Python 3",
   "language": "python",
   "name": "python3"
  },
  "language_info": {
   "codemirror_mode": {
    "name": "ipython",
    "version": 2
   },
   "file_extension": ".py",
   "mimetype": "text/x-python",
   "name": "python",
   "nbconvert_exporter": "python",
   "pygments_lexer": "ipython2",
   "version": "2.7.6"
  }
 },
 "nbformat": 4,
 "nbformat_minor": 5
}
