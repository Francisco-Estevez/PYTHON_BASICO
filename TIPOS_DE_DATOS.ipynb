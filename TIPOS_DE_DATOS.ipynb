{
 "cells": [
  {
   "metadata": {},
   "cell_type": "markdown",
   "source": "# Tipos de Datos",
   "id": "beed2155c93ba2af"
  },
  {
   "metadata": {},
   "cell_type": "markdown",
   "source": "## 1- Strings (Cadenas)",
   "id": "17a57a33903526b"
  },
  {
   "metadata": {
    "ExecuteTime": {
     "end_time": "2025-01-09T18:36:48.566305Z",
     "start_time": "2025-01-09T18:36:48.556129Z"
    }
   },
   "cell_type": "code",
   "source": [
    "texto1 = \"Este es un ejemplo de texto\"\n",
    "type(texto1)"
   ],
   "id": "ac296e0a98b4a094",
   "outputs": [
    {
     "data": {
      "text/plain": [
       "str"
      ]
     },
     "execution_count": 9,
     "metadata": {},
     "output_type": "execute_result"
    }
   ],
   "execution_count": 9
  },
  {
   "metadata": {
    "ExecuteTime": {
     "end_time": "2025-01-09T18:36:48.600039Z",
     "start_time": "2025-01-09T18:36:48.588698Z"
    }
   },
   "cell_type": "code",
   "source": [
    "texto2 = 'Este es un ejemplo de texto'\n",
    "type(texto2)"
   ],
   "id": "68385fd03d46dda3",
   "outputs": [
    {
     "data": {
      "text/plain": [
       "str"
      ]
     },
     "execution_count": 10,
     "metadata": {},
     "output_type": "execute_result"
    }
   ],
   "execution_count": 10
  },
  {
   "metadata": {
    "ExecuteTime": {
     "end_time": "2025-01-09T18:36:48.704198Z",
     "start_time": "2025-01-09T18:36:48.692545Z"
    }
   },
   "cell_type": "code",
   "source": [
    "texto3 = 'Este es un tercer ejemplo, con un \"texto entre comillas\"'\n",
    "type(texto3)"
   ],
   "id": "b1bf901dd194a2b",
   "outputs": [
    {
     "data": {
      "text/plain": [
       "str"
      ]
     },
     "execution_count": 11,
     "metadata": {},
     "output_type": "execute_result"
    }
   ],
   "execution_count": 11
  },
  {
   "metadata": {
    "ExecuteTime": {
     "end_time": "2025-01-09T18:36:48.775077Z",
     "start_time": "2025-01-09T18:36:48.766516Z"
    }
   },
   "cell_type": "code",
   "source": "print(texto3)",
   "id": "a9a2e2d16dff8bc1",
   "outputs": [
    {
     "name": "stdout",
     "output_type": "stream",
     "text": [
      "Este es un tercer ejemplo, con un \"texto entre comillas\"\n"
     ]
    }
   ],
   "execution_count": 12
  },
  {
   "metadata": {},
   "cell_type": "code",
   "source": [
    "texto = texto1 + ' ' + texto2 + ' ' + texto3\n",
    "print(texto)"
   ],
   "id": "a46a12d101b46207",
   "outputs": [
    {
     "name": "stdout",
     "output_type": "stream",
     "text": [
      "Este es un ejemplo de texto Este es un ejemplo de texto Este es un tercer ejemplo, con un \"texto entre comillas\"\n"
     ]
    }
   ],
   "execution_count": 13
  },
  {
   "metadata": {
    "ExecuteTime": {
     "end_time": "2025-01-09T18:36:48.850917Z",
     "start_time": "2025-01-09T18:36:48.839118Z"
    }
   },
   "cell_type": "code",
   "source": [
    "# Caracteres de escape\n",
    "texto4 = \"Línea 1\\nLínea 2\\nLínea 3\"\n",
    "print(texto4)"
   ],
   "id": "308fdffb07adf831",
   "outputs": [
    {
     "name": "stdout",
     "output_type": "stream",
     "text": [
      "Línea 1\n",
      "Línea 2\n",
      "Línea 3\n"
     ]
    }
   ],
   "execution_count": 14
  },
  {
   "metadata": {
    "ExecuteTime": {
     "end_time": "2025-01-09T18:36:48.938148Z",
     "start_time": "2025-01-09T18:36:48.932909Z"
    }
   },
   "cell_type": "code",
   "source": [
    "texto5 = 'Primera parte\\tSegunda parte\\t\\t\\tTercera parte'\n",
    "print(texto5)"
   ],
   "id": "fa3faf2f9e21911",
   "outputs": [
    {
     "name": "stdout",
     "output_type": "stream",
     "text": [
      "Primera parte\tSegunda parte\t\t\tTercera parte\n"
     ]
    }
   ],
   "execution_count": 15
  },
  {
   "metadata": {},
   "cell_type": "markdown",
   "source": "## 2- Números",
   "id": "cb6eaffedcd411b3"
  },
  {
   "metadata": {
    "ExecuteTime": {
     "end_time": "2025-01-09T18:36:48.990601Z",
     "start_time": "2025-01-09T18:36:48.982844Z"
    }
   },
   "cell_type": "code",
   "source": [
    "# Tipo Entero\n",
    "a = 5\n",
    "type(a)"
   ],
   "id": "d123d4989d0cfd2",
   "outputs": [
    {
     "data": {
      "text/plain": [
       "int"
      ]
     },
     "execution_count": 16,
     "metadata": {},
     "output_type": "execute_result"
    }
   ],
   "execution_count": 16
  },
  {
   "metadata": {
    "ExecuteTime": {
     "end_time": "2025-01-09T18:36:49.032069Z",
     "start_time": "2025-01-09T18:36:49.023889Z"
    }
   },
   "cell_type": "code",
   "source": [
    "# Tipo Decimal\n",
    "b = 10.78\n",
    "type(b)"
   ],
   "id": "d764ce186825377f",
   "outputs": [
    {
     "data": {
      "text/plain": [
       "float"
      ]
     },
     "execution_count": 17,
     "metadata": {},
     "output_type": "execute_result"
    }
   ],
   "execution_count": 17
  },
  {
   "metadata": {
    "ExecuteTime": {
     "end_time": "2025-01-09T18:36:49.071492Z",
     "start_time": "2025-01-09T18:36:49.058826Z"
    }
   },
   "cell_type": "code",
   "source": [
    "# Tipo Complejo\n",
    "c = 5 + 2j\n",
    "type(c)"
   ],
   "id": "7fe9518cf8f30d82",
   "outputs": [
    {
     "data": {
      "text/plain": [
       "complex"
      ]
     },
     "execution_count": 18,
     "metadata": {},
     "output_type": "execute_result"
    }
   ],
   "execution_count": 18
  },
  {
   "metadata": {},
   "cell_type": "markdown",
   "source": "## 3- Booleanos\n",
   "id": "1254466ad7b5de4d"
  },
  {
   "metadata": {
    "ExecuteTime": {
     "end_time": "2025-01-09T18:36:49.104399Z",
     "start_time": "2025-01-09T18:36:49.096052Z"
    }
   },
   "cell_type": "code",
   "source": [
    "verdadera = True\n",
    "type(verdadera)"
   ],
   "id": "e551f00de2f3ce92",
   "outputs": [
    {
     "data": {
      "text/plain": [
       "bool"
      ]
     },
     "execution_count": 19,
     "metadata": {},
     "output_type": "execute_result"
    }
   ],
   "execution_count": 19
  },
  {
   "metadata": {
    "ExecuteTime": {
     "end_time": "2025-01-09T18:36:49.139947Z",
     "start_time": "2025-01-09T18:36:49.131346Z"
    }
   },
   "cell_type": "code",
   "source": [
    "falsa = False\n",
    "type(falsa)"
   ],
   "id": "c8df2444b4295e24",
   "outputs": [
    {
     "data": {
      "text/plain": [
       "bool"
      ]
     },
     "execution_count": 20,
     "metadata": {},
     "output_type": "execute_result"
    }
   ],
   "execution_count": 20
  },
  {
   "metadata": {
    "ExecuteTime": {
     "end_time": "2025-01-09T18:36:49.180597Z",
     "start_time": "2025-01-09T18:36:49.172007Z"
    }
   },
   "cell_type": "code",
   "source": "%whos",
   "id": "5f8190ac5848b435",
   "outputs": [
    {
     "name": "stdout",
     "output_type": "stream",
     "text": [
      "Variable                        Type        Data/Info\n",
      "-----------------------------------------------------\n",
      "a                               int         5\n",
      "b                               float       10.78\n",
      "c                               complex     (5+2j)\n",
      "falsa                           bool        False\n",
      "falso                           bool        False\n",
      "pydev_jupyter_vars              module      <module 'pydev_jupyter_va<...>\\\\pydev_jupyter_vars.py'>\n",
      "remove_imported_pydev_package   function    <function remove_imported<...>ge at 0x0000020CFD9639C0>\n",
      "sys                             module      <module 'sys' (built-in)>\n",
      "texto                           str         Este es un ejemplo de tex<...>un \"texto entre comillas\"\n",
      "texto1                          str         Este es un ejemplo de texto\n",
      "texto2                          str         Este es un ejemplo de texto\n",
      "texto3                          str         Este es un tercer ejemplo<...>un \"texto entre comillas\"\n",
      "texto4                          str         Línea 1\\nLínea 2\\nLínea 3\n",
      "texto5                          str         Primera parte\tSegunda parte\t\t\tTercera parte\n",
      "verdadera                       bool        True\n"
     ]
    }
   ],
   "execution_count": 21
  },
  {
   "metadata": {
    "ExecuteTime": {
     "end_time": "2025-01-09T18:36:49.225481Z",
     "start_time": "2025-01-09T18:36:49.222447Z"
    }
   },
   "cell_type": "code",
   "source": "",
   "id": "77a80c6a291350e7",
   "outputs": [],
   "execution_count": null
  }
 ],
 "metadata": {
  "kernelspec": {
   "display_name": "Python 3",
   "language": "python",
   "name": "python3"
  },
  "language_info": {
   "codemirror_mode": {
    "name": "ipython",
    "version": 2
   },
   "file_extension": ".py",
   "mimetype": "text/x-python",
   "name": "python",
   "nbconvert_exporter": "python",
   "pygments_lexer": "ipython2",
   "version": "2.7.6"
  }
 },
 "nbformat": 4,
 "nbformat_minor": 5
}
