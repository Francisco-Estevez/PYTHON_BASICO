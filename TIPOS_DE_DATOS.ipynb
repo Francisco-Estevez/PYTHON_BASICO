{
 "cells": [
  {
   "metadata": {},
   "cell_type": "markdown",
   "source": "# Tipos de Datos",
   "id": "beed2155c93ba2af"
  },
  {
   "metadata": {},
   "cell_type": "markdown",
   "source": "## 1- Strings (Cadenas)",
   "id": "17a57a33903526b"
  },
  {
   "metadata": {},
   "cell_type": "code",
   "source": [
    "texto1 = \"Este es un ejemplo de texto\"\n",
    "type(texto1)"
   ],
   "id": "ac296e0a98b4a094",
   "outputs": [],
   "execution_count": null
  },
  {
   "metadata": {},
   "cell_type": "code",
   "source": [
    "texto2 = 'Este es un ejemplo de texto'\n",
    "type(texto2)"
   ],
   "id": "68385fd03d46dda3",
   "outputs": [],
   "execution_count": null
  },
  {
   "metadata": {},
   "cell_type": "code",
   "source": [
    "texto3 = 'Este es un tercer ejemplo, con un \"texto entre comillas\"'\n",
    "type(texto3)"
   ],
   "id": "b1bf901dd194a2b",
   "outputs": [],
   "execution_count": null
  },
  {
   "metadata": {},
   "cell_type": "code",
   "source": "print(texto3)",
   "id": "a9a2e2d16dff8bc1",
   "outputs": [],
   "execution_count": null
  },
  {
   "metadata": {},
   "cell_type": "code",
   "source": [
    "texto = texto1 + ' ' + texto2 + ' ' + texto3\n",
    "print(texto)"
   ],
   "id": "a46a12d101b46207",
   "outputs": [],
   "execution_count": null
  },
  {
   "metadata": {
    "ExecuteTime": {
     "end_time": "2025-01-09T17:56:35.053773Z",
     "start_time": "2025-01-09T17:56:35.039760Z"
    }
   },
   "cell_type": "code",
   "source": [
    "# Caracteres de escape\n",
    "texto4 = \"Línea 1\\nLínea 2\\nLínea 3\"\n",
    "print(texto4)"
   ],
   "id": "308fdffb07adf831",
   "outputs": [
    {
     "name": "stdout",
     "output_type": "stream",
     "text": [
      "Línea 1\n",
      "Línea 2\n",
      "Línea 3\n"
     ]
    }
   ],
   "execution_count": 1
  },
  {
   "metadata": {
    "ExecuteTime": {
     "end_time": "2025-01-09T18:17:20.732425Z",
     "start_time": "2025-01-09T18:17:20.432690Z"
    }
   },
   "cell_type": "code",
   "source": [
    "texto5 = 'Primera parte\\tSegunda parte\\t\\t\\tTercera parte'\n",
    "print(texto5)"
   ],
   "id": "fa3faf2f9e21911",
   "outputs": [
    {
     "name": "stdout",
     "output_type": "stream",
     "text": [
      "Primera parte\tSegunda parte\t\t\tTercera parte\n"
     ]
    }
   ],
   "execution_count": 2
  },
  {
   "metadata": {},
   "cell_type": "markdown",
   "source": "## 2- Números",
   "id": "cb6eaffedcd411b3"
  },
  {
   "metadata": {},
   "cell_type": "code",
   "outputs": [],
   "execution_count": null,
   "source": [
    "# Tipo Entero\n",
    "a = 5"
   ],
   "id": "d123d4989d0cfd2"
  }
 ],
 "metadata": {
  "kernelspec": {
   "display_name": "Python 3",
   "language": "python",
   "name": "python3"
  },
  "language_info": {
   "codemirror_mode": {
    "name": "ipython",
    "version": 2
   },
   "file_extension": ".py",
   "mimetype": "text/x-python",
   "name": "python",
   "nbconvert_exporter": "python",
   "pygments_lexer": "ipython2",
   "version": "2.7.6"
  }
 },
 "nbformat": 4,
 "nbformat_minor": 5
}
