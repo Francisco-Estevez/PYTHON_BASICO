{
 "cells": [
  {
   "metadata": {},
   "cell_type": "markdown",
   "source": "# Tipos de Datos",
   "id": "beed2155c93ba2af"
  },
  {
   "metadata": {},
   "cell_type": "markdown",
   "source": "## 1- Strings (Cadenas)",
   "id": "17a57a33903526b"
  },
  {
   "metadata": {},
   "cell_type": "code",
   "source": [
    "texto1 = \"Este es un ejemplo de texto\"\n",
    "type(texto1)"
   ],
   "id": "ac296e0a98b4a094",
   "outputs": [],
   "execution_count": null
  },
  {
   "metadata": {},
   "cell_type": "code",
   "source": [
    "texto2 = 'Este es un ejemplo de texto'\n",
    "type(texto2)"
   ],
   "id": "68385fd03d46dda3",
   "outputs": [],
   "execution_count": null
  },
  {
   "metadata": {},
   "cell_type": "code",
   "source": [
    "texto3 = 'Este es un tercer ejemplo, con un \"texto entre comillas\"'\n",
    "type(texto3)"
   ],
   "id": "b1bf901dd194a2b",
   "outputs": [],
   "execution_count": null
  },
  {
   "metadata": {},
   "cell_type": "code",
   "source": "print(texto3)",
   "id": "a9a2e2d16dff8bc1",
   "outputs": [],
   "execution_count": null
  },
  {
   "metadata": {},
   "cell_type": "code",
   "source": [
    "texto = texto1 + ' ' + texto2 + ' ' + texto3\n",
    "print(texto)"
   ],
   "id": "a46a12d101b46207",
   "outputs": [],
   "execution_count": null
  },
  {
   "metadata": {
    "ExecuteTime": {
     "end_time": "2025-01-03T19:53:50.917696Z",
     "start_time": "2025-01-03T19:53:50.913144Z"
    }
   },
   "cell_type": "code",
   "source": [
    "# Caracteres de escape\n",
    "texto4 = \"Línea 1\\nLínea 2\\nLínea 3\""
   ],
   "id": "308fdffb07adf831",
   "outputs": [],
   "execution_count": 17
  },
  {
   "metadata": {
    "ExecuteTime": {
     "end_time": "2025-01-03T19:53:52.669820Z",
     "start_time": "2025-01-03T19:53:52.664196Z"
    }
   },
   "cell_type": "code",
   "source": "print(texto4)",
   "id": "e1c5efbfdba0f5f0",
   "outputs": [
    {
     "name": "stdout",
     "output_type": "stream",
     "text": [
      "Línea 1\n",
      "Línea 2\n",
      "Línea 3\n"
     ]
    }
   ],
   "execution_count": 18
  }
 ],
 "metadata": {
  "kernelspec": {
   "display_name": "Python 3",
   "language": "python",
   "name": "python3"
  },
  "language_info": {
   "codemirror_mode": {
    "name": "ipython",
    "version": 2
   },
   "file_extension": ".py",
   "mimetype": "text/x-python",
   "name": "python",
   "nbconvert_exporter": "python",
   "pygments_lexer": "ipython2",
   "version": "2.7.6"
  }
 },
 "nbformat": 4,
 "nbformat_minor": 5
}
