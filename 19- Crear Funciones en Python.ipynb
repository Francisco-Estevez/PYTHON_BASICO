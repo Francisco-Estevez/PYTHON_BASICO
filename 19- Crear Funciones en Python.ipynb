{
 "cells": [
  {
   "metadata": {},
   "cell_type": "markdown",
   "source": "# Como crear una función en python",
   "id": "e82fdd508327b999"
  },
  {
   "metadata": {},
   "cell_type": "markdown",
   "source": [
    "## Ejemplo 1\n",
    "### Convirtamos la siguiente porción de código en una funcion:"
   ],
   "id": "f2a4486871b90d24"
  },
  {
   "metadata": {},
   "cell_type": "code",
   "source": [
    "# Datos introducidos por el usuario\n",
    "n1 = float(input(\"Introduzca el datos 1: \"))\n",
    "n2 = float(input(\"Introduzca el datos 2: \"))\n",
    "n3 = float(input(\"Introduzca el datos 3: \"))\n",
    "\n",
    "# Determinar cuál es el número mayor\n",
    "if n1 > n2 and n1 > n3:\n",
    "    mayor = n1\n",
    "elif n2 > n1 and n2 > n3:\n",
    "    mayor = n2\n",
    "else:\n",
    "    mayor = n3\n",
    "\n",
    "print(f\"El número mayor es: {mayor}\")"
   ],
   "id": "3ad5b5d79da2927d",
   "outputs": [],
   "execution_count": null
  },
  {
   "metadata": {},
   "cell_type": "code",
   "source": [
    "def calcular_maximo():\n",
    "    # Incluir del docstring (Ocional): Esto describe que es lo que hace la función\n",
    "    \"Función que toma 3 datos de entrada, calcula el máximo y lo imprime en pantalla\"\n",
    "\n",
    "    # Código qu ejecutará la función cuando sea llamada\n",
    "    n1 = float(input(\"Introduzca el datos 1: \"))\n",
    "    n2 = float(input(\"Introduzca el datos 2: \"))\n",
    "    n3 = float(input(\"Introduzca el datos 3: \"))\n",
    "\n",
    "    # Determinar cuál es el número mayor\n",
    "    if n1 > n2 and n1 > n3:\n",
    "        mayor = n1\n",
    "    elif n2 > n1 and n2 > n3:\n",
    "        mayor = n2\n",
    "    else:\n",
    "        mayor = n3\n",
    "\n",
    "    print(f\"El número mayor es: {mayor}\")\n",
    "\n",
    "    # Opcional: Aregar valores a retornar"
   ],
   "id": "960a2e696d2d8ab6",
   "outputs": [],
   "execution_count": null
  },
  {
   "metadata": {
    "ExecuteTime": {
     "end_time": "2025-01-26T22:03:49.270011Z",
     "start_time": "2025-01-26T22:03:37.940086Z"
    }
   },
   "cell_type": "code",
   "source": [
    "# LLamar la función desde nuestro programa\n",
    "calcular_maximo()"
   ],
   "id": "4f5643743fce5d9c",
   "outputs": [
    {
     "name": "stdout",
     "output_type": "stream",
     "text": [
      "El número mayor es: 88.0\n"
     ]
    }
   ],
   "execution_count": 10
  },
  {
   "metadata": {},
   "cell_type": "code",
   "source": "",
   "id": "8e03d178119134c7",
   "outputs": [],
   "execution_count": null
  }
 ],
 "metadata": {
  "kernelspec": {
   "display_name": "Python 3",
   "language": "python",
   "name": "python3"
  },
  "language_info": {
   "codemirror_mode": {
    "name": "ipython",
    "version": 2
   },
   "file_extension": ".py",
   "mimetype": "text/x-python",
   "name": "python",
   "nbconvert_exporter": "python",
   "pygments_lexer": "ipython2",
   "version": "2.7.6"
  }
 },
 "nbformat": 4,
 "nbformat_minor": 5
}
