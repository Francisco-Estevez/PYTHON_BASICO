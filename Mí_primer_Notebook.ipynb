{
 "cells": [
  {
   "metadata": {},
   "cell_type": "markdown",
   "source": "# !Mi primer notebook!",
   "id": "345dc959781d4f4e"
  },
  {
   "metadata": {},
   "cell_type": "markdown",
   "source": "## Operadores Básicos",
   "id": "5469e421da18b4b7"
  },
  {
   "metadata": {},
   "cell_type": "code",
   "source": [
    "# Suma\n",
    "5 + 7.2 + 3.5"
   ],
   "id": "1aaca9832d970506",
   "outputs": [],
   "execution_count": null
  },
  {
   "metadata": {},
   "cell_type": "code",
   "source": [
    "# Resta\n",
    "9 - 25 - 34"
   ],
   "id": "220600f844b05aa5",
   "outputs": [],
   "execution_count": null
  },
  {
   "metadata": {},
   "cell_type": "code",
   "source": [
    "# Multiplicación\n",
    "2.5 * 5 * 8.9"
   ],
   "id": "848608bc1668a299",
   "outputs": [],
   "execution_count": null
  },
  {
   "metadata": {},
   "cell_type": "code",
   "source": [
    "# División\n",
    "8 / 36"
   ],
   "id": "fe8ad1ee13cd663",
   "outputs": [],
   "execution_count": null
  },
  {
   "metadata": {},
   "cell_type": "code",
   "source": [
    "# Módulo (Residuo de la División)\n",
    "8 & 4"
   ],
   "id": "aa16dc15b4f3c6a8",
   "outputs": [],
   "execution_count": null
  },
  {
   "metadata": {},
   "cell_type": "code",
   "source": [
    "# División aproximando al entero más cercano\n",
    "15 // 6"
   ],
   "id": "972892bc55a8e9f0",
   "outputs": [],
   "execution_count": null
  },
  {
   "metadata": {},
   "cell_type": "code",
   "source": [
    "# Elevar un número a una potencia\n",
    "2 ** 64"
   ],
   "id": "4619067d73bf3058",
   "outputs": [],
   "execution_count": null
  },
  {
   "metadata": {},
   "cell_type": "markdown",
   "source": "## Orden de las operaciones (Jerarquia de operaciones)",
   "id": "fc93a5dd23f0b7ae"
  },
  {
   "metadata": {},
   "cell_type": "code",
   "source": "2 + 9 * 8",
   "id": "f415bba2dff343f",
   "outputs": [],
   "execution_count": null
  },
  {
   "metadata": {},
   "cell_type": "code",
   "source": "2 * 4 ** 2 - 8",
   "id": "6c2ca8838983dcad",
   "outputs": [],
   "execution_count": null
  },
  {
   "metadata": {},
   "cell_type": "code",
   "source": "80 - 3 * 2 + 16",
   "id": "9b9ca984de644e03",
   "outputs": [],
   "execution_count": null
  },
  {
   "metadata": {},
   "cell_type": "code",
   "source": "192 / 6 - 5 * (3 + 2)  * 2",
   "id": "98a8559e0a34f268",
   "outputs": [],
   "execution_count": null
  },
  {
   "metadata": {},
   "cell_type": "code",
   "source": "5 * (2 / 2.5)",
   "id": "b8b818de66df6cc1",
   "outputs": [],
   "execution_count": null
  }
 ],
 "metadata": {
  "kernelspec": {
   "display_name": "Python 3",
   "language": "python",
   "name": "python3"
  },
  "language_info": {
   "codemirror_mode": {
    "name": "ipython",
    "version": 2
   },
   "file_extension": ".py",
   "mimetype": "text/x-python",
   "name": "python",
   "nbconvert_exporter": "python",
   "pygments_lexer": "ipython2",
   "version": "2.7.6"
  }
 },
 "nbformat": 4,
 "nbformat_minor": 5
}
