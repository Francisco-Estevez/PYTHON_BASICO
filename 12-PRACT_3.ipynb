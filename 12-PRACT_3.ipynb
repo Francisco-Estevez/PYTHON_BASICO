{
 "cells": [
  {
   "metadata": {},
   "cell_type": "markdown",
   "source": [
    "# Práctica 3: Calculando el costo de una entrada\n",
    "En la lección anterior hablamos de las sentencias «if» que nos permiten ejecutar diferentes porciones de código dependiendo del cumplimiento de una o múltiples condiciones. Con estas sentencias ya tenemos una herramienta más que permitirá dar más versatilidad a nuestros programas.\n",
    "\n",
    "Así que en esta práctica combinaremos varias de las ideas vistas hasta el momento para implementar un programa capaz de calcular el costo de una entrada a un parque de diversiones. Lo interesante acá es que se tendrán diferentes tarifas dependiendo del rango de edad de los visitantes.\n",
    "\n",
    "La implementación del programa requerirá el uso de varias herramientas que hemos visto hasta el momento: el uso de operadores, el uso de sentencias if, el ingreso de datos desde el teclado y el uso de funciones de Python para mostrar los resultados en pantalla.\n",
    "\n",
    "En particular la idea es implementar un programa que acepte como entrada la edad del visitante y que calcule la tarifa que debe pagar dependiendo de rangos de edad específicos con descuentos aplicables. Además, al finalizar debe imprimir un mensaje en pantalla indicando la tarifa y el descuento aplicado.\n",
    "\n",
    "Veamos entonces cómo implementar este programa:"
   ],
   "id": "f10b350e1649a467"
  },
  {
   "metadata": {},
   "cell_type": "markdown",
   "source": [
    "## Requerimientos\n",
    "\n",
    "El programa debe satisfacer los siguientes requerimientos:\n",
    "\n",
    "1. Debe aceptar como entrada la edad del visitante, introducida por el usuario a través del teclado.\n",
    "2. Debe calcular la tarifa a pagar por el visitante, dependiendo de estos rangos de edad:\n",
    "   - 18 a 55 años: tarifa plana sin descuento, 10 dólares\n",
    "   - 56 a 70 años: descuento del 5% sobre la tarifa plana\n",
    "   - 71 años en adelante: descuento del 10% sobre la tarifa plana\n",
    "   - 5 a 17 años: descuento del 20% sobre la tarifa plana\n",
    "   - Niños menores de 5 años: descuento del 50% sobre la tarifa plana\n",
    "3. Al finalizar debe imprimir en pantalla un mensaje indicando la tarifa a pagar y el descuento aplicado. Por ejemplo: \"El costo de tu entrada es de 50 dólares (descuento aplicado: 50%)\""
   ],
   "id": "1169db1205f4debd"
  },
  {
   "metadata": {},
   "cell_type": "markdown",
   "source": "## Implementación",
   "id": "505ac9b73c7da398"
  },
  {
   "metadata": {
    "ExecuteTime": {
     "end_time": "2025-01-14T20:35:24.144333Z",
     "start_time": "2025-01-14T20:35:19.897057Z"
    }
   },
   "cell_type": "code",
   "source": [
    "# 1- Introducir la edad del visitante\n",
    "edad = int(input(\"Introduzca la edad del visitante: \"))"
   ],
   "id": "d424330ddeb9e27d",
   "outputs": [],
   "execution_count": 11
  },
  {
   "metadata": {
    "ExecuteTime": {
     "end_time": "2025-01-14T20:35:25.640677Z",
     "start_time": "2025-01-14T20:35:25.634475Z"
    }
   },
   "cell_type": "code",
   "source": [
    "# 1- Calcular el costo del ticket de entrada\n",
    "tarifa_plana = 10\n",
    "mensaje = \"El costo de tú entrada es de 10 dólares.\\nNo tuviste ningún descuento\"\n",
    "if edad >= 71:\n",
    "    tarifa = tarifa_plana - tarifa_plana *10/100 # También se podía multiplicar por 0.1\n",
    "    mensaje = f\"El costo de tú entrada es de {tarifa} dólares.\\nObtuviste un descuento de 10%\"\n",
    "elif edad >= 56:\n",
    "    tarifa = tarifa_plana - tarifa_plana *5/100\n",
    "    mensaje = f\"El costo de tú entrada es de {tarifa} dólares.\\nObtuviste un descuento de 5%\"\n",
    "elif (edad >= 5) and (edad <= 17):\n",
    "    tarifa = tarifa_plana - tarifa_plana *20/100\n",
    "    mensaje = f\"El costo de tú entrada es de {tarifa} dólares.\\nObtuviste un descuento de 20%\"\n",
    "elif edad < 5:\n",
    "    tarifa = tarifa_plana - tarifa_plana *50/100\n",
    "    mensaje = f\"El costo de tú entrada es de {tarifa} dólares.\\nObtuviste un descuento de 50%\""
   ],
   "id": "e9734091fd54eeaf",
   "outputs": [],
   "execution_count": 12
  },
  {
   "metadata": {
    "ExecuteTime": {
     "end_time": "2025-01-14T20:35:27.124833Z",
     "start_time": "2025-01-14T20:35:27.118759Z"
    }
   },
   "cell_type": "code",
   "source": "print(mensaje)",
   "id": "dfd57632842de001",
   "outputs": [
    {
     "name": "stdout",
     "output_type": "stream",
     "text": [
      "El costo de tú entrada es de 5.0 dólares.\n",
      "Obtuviste un descuento de 50%\n"
     ]
    }
   ],
   "execution_count": 13
  }
 ],
 "metadata": {
  "kernelspec": {
   "display_name": "Python 3",
   "language": "python",
   "name": "python3"
  },
  "language_info": {
   "codemirror_mode": {
    "name": "ipython",
    "version": 2
   },
   "file_extension": ".py",
   "mimetype": "text/x-python",
   "name": "python",
   "nbconvert_exporter": "python",
   "pygments_lexer": "ipython2",
   "version": "2.7.6"
  }
 },
 "nbformat": 4,
 "nbformat_minor": 5
}
