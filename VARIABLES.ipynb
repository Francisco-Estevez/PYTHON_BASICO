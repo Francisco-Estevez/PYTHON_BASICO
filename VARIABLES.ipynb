{
 "cells": [
  {
   "metadata": {},
   "cell_type": "markdown",
   "source": "# Variables y reglas básicas",
   "id": "14c0ec188c957edc"
  },
  {
   "metadata": {},
   "cell_type": "markdown",
   "source": "## 1- Variables",
   "id": "40be14d894ccd8a1"
  },
  {
   "metadata": {},
   "cell_type": "markdown",
   "source": "#### Una variable permite almacenar en memoria un dato (string, int, float, bool, entre otros), para ser usado más adelante en el programa",
   "id": "22a1f4e0c72d3533"
  },
  {
   "metadata": {
    "ExecuteTime": {
     "end_time": "2025-01-09T19:39:58.455234Z",
     "start_time": "2025-01-09T19:39:58.435504Z"
    }
   },
   "cell_type": "code",
   "source": "texto = \"Este es un ejemplo de una variable\"",
   "id": "f8dadb310dc14535",
   "outputs": [],
   "execution_count": 3
  },
  {
   "metadata": {
    "ExecuteTime": {
     "end_time": "2025-01-09T19:39:58.478544Z",
     "start_time": "2025-01-09T19:39:58.473491Z"
    }
   },
   "cell_type": "code",
   "source": [
    "# Características de las Variables:\n",
    "# 1. Valor\n",
    "# 2. Tipo de Dato\n",
    "# 3. \"id\" : Posición / Dirección en Memoria"
   ],
   "id": "fa1bd0606f9b280d",
   "outputs": [],
   "execution_count": 4
  },
  {
   "metadata": {
    "ExecuteTime": {
     "end_time": "2025-01-09T19:39:58.742569Z",
     "start_time": "2025-01-09T19:39:58.706708Z"
    }
   },
   "cell_type": "code",
   "source": "id(texto)",
   "id": "aa3eb032d239f8df",
   "outputs": [
    {
     "data": {
      "text/plain": [
       "1916899460560"
      ]
     },
     "execution_count": 5,
     "metadata": {},
     "output_type": "execute_result"
    }
   ],
   "execution_count": 5
  },
  {
   "metadata": {
    "ExecuteTime": {
     "end_time": "2025-01-09T20:01:40.551597Z",
     "start_time": "2025-01-09T20:01:40.537820Z"
    }
   },
   "cell_type": "code",
   "source": [
    "texto2 = \"Ejemplo dos de texto\"\n",
    "id(texto2)"
   ],
   "id": "77d4474bbe7d0267",
   "outputs": [
    {
     "data": {
      "text/plain": [
       "1916898847536"
      ]
     },
     "execution_count": 6,
     "metadata": {},
     "output_type": "execute_result"
    }
   ],
   "execution_count": 6
  },
  {
   "metadata": {
    "ExecuteTime": {
     "end_time": "2025-01-09T20:04:28.204049Z",
     "start_time": "2025-01-09T20:04:28.191054Z"
    }
   },
   "cell_type": "code",
   "source": "texto.upper()",
   "id": "ace990f7919a6375",
   "outputs": [
    {
     "data": {
      "text/plain": [
       "'ESTE ES UN EJEMPLO DE UNA VARIABLE'"
      ]
     },
     "execution_count": 7,
     "metadata": {},
     "output_type": "execute_result"
    }
   ],
   "execution_count": 7
  },
  {
   "metadata": {
    "ExecuteTime": {
     "end_time": "2025-01-09T20:04:47.435771Z",
     "start_time": "2025-01-09T20:04:47.423896Z"
    }
   },
   "cell_type": "code",
   "source": "texto2.capitalize()",
   "id": "2cb87406023025a",
   "outputs": [
    {
     "data": {
      "text/plain": [
       "'Ejemplo dos de texto'"
      ]
     },
     "execution_count": 8,
     "metadata": {},
     "output_type": "execute_result"
    }
   ],
   "execution_count": 8
  },
  {
   "metadata": {
    "ExecuteTime": {
     "end_time": "2025-01-09T20:05:39.717348Z",
     "start_time": "2025-01-09T20:05:39.707940Z"
    }
   },
   "cell_type": "code",
   "source": "texto2.upper()",
   "id": "dbf690dccd4a9df7",
   "outputs": [
    {
     "data": {
      "text/plain": [
       "'EJEMPLO DOS DE TEXTO'"
      ]
     },
     "execution_count": 11,
     "metadata": {},
     "output_type": "execute_result"
    }
   ],
   "execution_count": 11
  },
  {
   "metadata": {
    "ExecuteTime": {
     "end_time": "2025-01-09T20:09:46.781065Z",
     "start_time": "2025-01-09T20:09:46.773790Z"
    }
   },
   "cell_type": "code",
   "source": "texto.lower()",
   "id": "c6b39ebd69dfe85f",
   "outputs": [
    {
     "data": {
      "text/plain": [
       "'este es un ejemplo de una variable'"
      ]
     },
     "execution_count": 13,
     "metadata": {},
     "output_type": "execute_result"
    }
   ],
   "execution_count": 13
  },
  {
   "metadata": {
    "ExecuteTime": {
     "end_time": "2025-01-09T20:09:41.973416Z",
     "start_time": "2025-01-09T20:09:41.966306Z"
    }
   },
   "cell_type": "code",
   "source": "texto2.lower()",
   "id": "386cc0d147d03dfc",
   "outputs": [
    {
     "data": {
      "text/plain": [
       "'ejemplo dos de texto'"
      ]
     },
     "execution_count": 12,
     "metadata": {},
     "output_type": "execute_result"
    }
   ],
   "execution_count": 12
  },
  {
   "metadata": {
    "ExecuteTime": {
     "end_time": "2025-01-09T20:12:32.313649Z",
     "start_time": "2025-01-09T20:12:32.307418Z"
    }
   },
   "cell_type": "code",
   "source": "texto2.count(\"o\")",
   "id": "1f544e0f7d5dce94",
   "outputs": [
    {
     "data": {
      "text/plain": [
       "3"
      ]
     },
     "execution_count": 15,
     "metadata": {},
     "output_type": "execute_result"
    }
   ],
   "execution_count": 15
  },
  {
   "metadata": {
    "ExecuteTime": {
     "end_time": "2025-01-09T20:14:01.230750Z",
     "start_time": "2025-01-09T20:14:01.224751Z"
    }
   },
   "cell_type": "code",
   "source": "texto2.count(\"t\")",
   "id": "fbffc40ec8aa8fc8",
   "outputs": [
    {
     "data": {
      "text/plain": [
       "2"
      ]
     },
     "execution_count": 17,
     "metadata": {},
     "output_type": "execute_result"
    }
   ],
   "execution_count": 17
  },
  {
   "metadata": {},
   "cell_type": "code",
   "outputs": [],
   "execution_count": null,
   "source": "",
   "id": "502b94aa0ec42903"
  }
 ],
 "metadata": {
  "kernelspec": {
   "display_name": "Python 3",
   "language": "python",
   "name": "python3"
  },
  "language_info": {
   "codemirror_mode": {
    "name": "ipython",
    "version": 2
   },
   "file_extension": ".py",
   "mimetype": "text/x-python",
   "name": "python",
   "nbconvert_exporter": "python",
   "pygments_lexer": "ipython2",
   "version": "2.7.6"
  }
 },
 "nbformat": 4,
 "nbformat_minor": 5
}
