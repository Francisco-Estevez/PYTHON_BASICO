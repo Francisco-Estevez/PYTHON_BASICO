{
 "cells": [
  {
   "metadata": {},
   "cell_type": "markdown",
   "source": "# Variables y reglas básicas",
   "id": "14c0ec188c957edc"
  },
  {
   "metadata": {},
   "cell_type": "markdown",
   "source": "## 1- Variables",
   "id": "40be14d894ccd8a1"
  },
  {
   "metadata": {},
   "cell_type": "markdown",
   "source": "#### Una variable permite almacenar en memoria un dato (string, int, float, bool, entre otros), para ser usado más adelante en el programa",
   "id": "22a1f4e0c72d3533"
  },
  {
   "metadata": {
    "ExecuteTime": {
     "end_time": "2025-01-13T15:58:33.855116Z",
     "start_time": "2025-01-13T15:58:33.849140Z"
    }
   },
   "cell_type": "code",
   "source": "texto = \"Este es un ejemplo de una variable\"",
   "id": "f8dadb310dc14535",
   "outputs": [],
   "execution_count": 57
  },
  {
   "metadata": {
    "ExecuteTime": {
     "end_time": "2025-01-13T15:58:33.896205Z",
     "start_time": "2025-01-13T15:58:33.866678Z"
    }
   },
   "cell_type": "code",
   "source": [
    "# Características de las Variables:\n",
    "# 1. Valor\n",
    "# 2. Tipo de Dato\n",
    "# 3. \"id\" : Posición / Dirección en Memoria"
   ],
   "id": "fa1bd0606f9b280d",
   "outputs": [],
   "execution_count": 58
  },
  {
   "metadata": {
    "ExecuteTime": {
     "end_time": "2025-01-13T15:58:33.937883Z",
     "start_time": "2025-01-13T15:58:33.911740Z"
    }
   },
   "cell_type": "code",
   "source": "id(texto)",
   "id": "aa3eb032d239f8df",
   "outputs": [
    {
     "data": {
      "text/plain": [
       "2209257014336"
      ]
     },
     "execution_count": 59,
     "metadata": {},
     "output_type": "execute_result"
    }
   ],
   "execution_count": 59
  },
  {
   "metadata": {
    "ExecuteTime": {
     "end_time": "2025-01-13T15:58:34.054385Z",
     "start_time": "2025-01-13T15:58:33.963629Z"
    }
   },
   "cell_type": "code",
   "source": [
    "texto2 = \"Ejemplo dos de texto\"\n",
    "id(texto2)"
   ],
   "id": "77d4474bbe7d0267",
   "outputs": [
    {
     "data": {
      "text/plain": [
       "2209257055152"
      ]
     },
     "execution_count": 60,
     "metadata": {},
     "output_type": "execute_result"
    }
   ],
   "execution_count": 60
  },
  {
   "metadata": {
    "ExecuteTime": {
     "end_time": "2025-01-13T15:58:34.092974Z",
     "start_time": "2025-01-13T15:58:34.085988Z"
    }
   },
   "cell_type": "code",
   "source": "texto.upper()",
   "id": "ace990f7919a6375",
   "outputs": [
    {
     "data": {
      "text/plain": [
       "'ESTE ES UN EJEMPLO DE UNA VARIABLE'"
      ]
     },
     "execution_count": 61,
     "metadata": {},
     "output_type": "execute_result"
    }
   ],
   "execution_count": 61
  },
  {
   "metadata": {
    "ExecuteTime": {
     "end_time": "2025-01-13T15:58:34.145533Z",
     "start_time": "2025-01-13T15:58:34.136624Z"
    }
   },
   "cell_type": "code",
   "source": "texto2.capitalize()",
   "id": "2cb87406023025a",
   "outputs": [
    {
     "data": {
      "text/plain": [
       "'Ejemplo dos de texto'"
      ]
     },
     "execution_count": 62,
     "metadata": {},
     "output_type": "execute_result"
    }
   ],
   "execution_count": 62
  },
  {
   "metadata": {
    "ExecuteTime": {
     "end_time": "2025-01-13T15:58:34.217563Z",
     "start_time": "2025-01-13T15:58:34.192771Z"
    }
   },
   "cell_type": "code",
   "source": "texto2.upper()",
   "id": "dbf690dccd4a9df7",
   "outputs": [
    {
     "data": {
      "text/plain": [
       "'EJEMPLO DOS DE TEXTO'"
      ]
     },
     "execution_count": 63,
     "metadata": {},
     "output_type": "execute_result"
    }
   ],
   "execution_count": 63
  },
  {
   "metadata": {
    "ExecuteTime": {
     "end_time": "2025-01-13T15:58:34.321139Z",
     "start_time": "2025-01-13T15:58:34.309716Z"
    }
   },
   "cell_type": "code",
   "source": "texto.lower()",
   "id": "c6b39ebd69dfe85f",
   "outputs": [
    {
     "data": {
      "text/plain": [
       "'este es un ejemplo de una variable'"
      ]
     },
     "execution_count": 64,
     "metadata": {},
     "output_type": "execute_result"
    }
   ],
   "execution_count": 64
  },
  {
   "metadata": {
    "ExecuteTime": {
     "end_time": "2025-01-13T15:58:34.389483Z",
     "start_time": "2025-01-13T15:58:34.379869Z"
    }
   },
   "cell_type": "code",
   "source": "texto2.lower()",
   "id": "386cc0d147d03dfc",
   "outputs": [
    {
     "data": {
      "text/plain": [
       "'ejemplo dos de texto'"
      ]
     },
     "execution_count": 65,
     "metadata": {},
     "output_type": "execute_result"
    }
   ],
   "execution_count": 65
  },
  {
   "metadata": {
    "ExecuteTime": {
     "end_time": "2025-01-13T15:58:34.482787Z",
     "start_time": "2025-01-13T15:58:34.427198Z"
    }
   },
   "cell_type": "code",
   "source": "texto2.count(\"o\")",
   "id": "1f544e0f7d5dce94",
   "outputs": [
    {
     "data": {
      "text/plain": [
       "3"
      ]
     },
     "execution_count": 66,
     "metadata": {},
     "output_type": "execute_result"
    }
   ],
   "execution_count": 66
  },
  {
   "metadata": {
    "ExecuteTime": {
     "end_time": "2025-01-13T15:58:34.611292Z",
     "start_time": "2025-01-13T15:58:34.602698Z"
    }
   },
   "cell_type": "code",
   "source": "texto2.count(\"t\")",
   "id": "fbffc40ec8aa8fc8",
   "outputs": [
    {
     "data": {
      "text/plain": [
       "2"
      ]
     },
     "execution_count": 67,
     "metadata": {},
     "output_type": "execute_result"
    }
   ],
   "execution_count": 67
  },
  {
   "metadata": {
    "ExecuteTime": {
     "end_time": "2025-01-13T15:58:34.748393Z",
     "start_time": "2025-01-13T15:58:34.737283Z"
    }
   },
   "cell_type": "code",
   "source": "texto2.startswith(\"Ejemplo\")",
   "id": "4fe71f68c03f7387",
   "outputs": [
    {
     "data": {
      "text/plain": [
       "True"
      ]
     },
     "execution_count": 68,
     "metadata": {},
     "output_type": "execute_result"
    }
   ],
   "execution_count": 68
  },
  {
   "metadata": {
    "ExecuteTime": {
     "end_time": "2025-01-13T15:58:34.866740Z",
     "start_time": "2025-01-13T15:58:34.855630Z"
    }
   },
   "cell_type": "code",
   "source": [
    "# Atributos\n",
    "c = 5 + 2j\n",
    "type(c)"
   ],
   "id": "75aaf7d6ae7df1c",
   "outputs": [
    {
     "data": {
      "text/plain": [
       "complex"
      ]
     },
     "execution_count": 69,
     "metadata": {},
     "output_type": "execute_result"
    }
   ],
   "execution_count": 69
  },
  {
   "metadata": {
    "ExecuteTime": {
     "end_time": "2025-01-13T15:58:34.975028Z",
     "start_time": "2025-01-13T15:58:34.965704Z"
    }
   },
   "cell_type": "code",
   "source": "c.real",
   "id": "e41cb4ac35e890fe",
   "outputs": [
    {
     "data": {
      "text/plain": [
       "5.0"
      ]
     },
     "execution_count": 70,
     "metadata": {},
     "output_type": "execute_result"
    }
   ],
   "execution_count": 70
  },
  {
   "metadata": {
    "ExecuteTime": {
     "end_time": "2025-01-13T15:58:35.098873Z",
     "start_time": "2025-01-13T15:58:35.090725Z"
    }
   },
   "cell_type": "code",
   "source": "c.imag",
   "id": "e6a534c62439f583",
   "outputs": [
    {
     "data": {
      "text/plain": [
       "2.0"
      ]
     },
     "execution_count": 71,
     "metadata": {},
     "output_type": "execute_result"
    }
   ],
   "execution_count": 71
  },
  {
   "metadata": {
    "ExecuteTime": {
     "end_time": "2025-01-13T15:58:35.204713Z",
     "start_time": "2025-01-13T15:58:35.196984Z"
    }
   },
   "cell_type": "code",
   "source": "c.conjugate()",
   "id": "a5fb710caaa79cd7",
   "outputs": [
    {
     "data": {
      "text/plain": [
       "(5-2j)"
      ]
     },
     "execution_count": 72,
     "metadata": {},
     "output_type": "execute_result"
    }
   ],
   "execution_count": 72
  }
 ],
 "metadata": {
  "kernelspec": {
   "display_name": "Python 3",
   "language": "python",
   "name": "python3"
  },
  "language_info": {
   "codemirror_mode": {
    "name": "ipython",
    "version": 2
   },
   "file_extension": ".py",
   "mimetype": "text/x-python",
   "name": "python",
   "nbconvert_exporter": "python",
   "pygments_lexer": "ipython2",
   "version": "2.7.6"
  }
 },
 "nbformat": 4,
 "nbformat_minor": 5
}
