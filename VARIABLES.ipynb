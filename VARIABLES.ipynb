{
 "cells": [
  {
   "metadata": {},
   "cell_type": "markdown",
   "source": "# Variables y reglas básicas",
   "id": "14c0ec188c957edc"
  },
  {
   "metadata": {},
   "cell_type": "markdown",
   "source": "## 1- Variables",
   "id": "40be14d894ccd8a1"
  },
  {
   "metadata": {},
   "cell_type": "markdown",
   "source": "#### Una variable permite almacenar en memoria un dato (string, int, float, bool, entre otros), para ser usado más adelante en el programa",
   "id": "22a1f4e0c72d3533"
  },
  {
   "metadata": {
    "ExecuteTime": {
     "end_time": "2025-01-13T16:25:19.076701Z",
     "start_time": "2025-01-13T16:25:19.069484Z"
    }
   },
   "cell_type": "code",
   "source": "texto = \"Este es un ejemplo de una variable\"",
   "id": "f8dadb310dc14535",
   "outputs": [],
   "execution_count": 262
  },
  {
   "metadata": {
    "ExecuteTime": {
     "end_time": "2025-01-13T16:25:19.093034Z",
     "start_time": "2025-01-13T16:25:19.086888Z"
    }
   },
   "cell_type": "code",
   "source": [
    "# Características de las Variables:\n",
    "# 1. Valor\n",
    "# 2. Tipo de Dato\n",
    "# 3. \"id\" : Posición / Dirección en Memoria"
   ],
   "id": "fa1bd0606f9b280d",
   "outputs": [],
   "execution_count": 263
  },
  {
   "metadata": {
    "ExecuteTime": {
     "end_time": "2025-01-13T16:25:19.121822Z",
     "start_time": "2025-01-13T16:25:19.111786Z"
    }
   },
   "cell_type": "code",
   "source": "id(texto)",
   "id": "aa3eb032d239f8df",
   "outputs": [
    {
     "data": {
      "text/plain": [
       "2209257021296"
      ]
     },
     "execution_count": 264,
     "metadata": {},
     "output_type": "execute_result"
    }
   ],
   "execution_count": 264
  },
  {
   "metadata": {
    "ExecuteTime": {
     "end_time": "2025-01-13T16:25:19.163612Z",
     "start_time": "2025-01-13T16:25:19.151734Z"
    }
   },
   "cell_type": "code",
   "source": [
    "texto2 = \"Ejemplo dos de texto\"\n",
    "id(texto2)"
   ],
   "id": "77d4474bbe7d0267",
   "outputs": [
    {
     "data": {
      "text/plain": [
       "2209262671856"
      ]
     },
     "execution_count": 265,
     "metadata": {},
     "output_type": "execute_result"
    }
   ],
   "execution_count": 265
  },
  {
   "metadata": {
    "ExecuteTime": {
     "end_time": "2025-01-13T16:25:19.210349Z",
     "start_time": "2025-01-13T16:25:19.198677Z"
    }
   },
   "cell_type": "code",
   "source": "texto.upper()",
   "id": "ace990f7919a6375",
   "outputs": [
    {
     "data": {
      "text/plain": [
       "'ESTE ES UN EJEMPLO DE UNA VARIABLE'"
      ]
     },
     "execution_count": 266,
     "metadata": {},
     "output_type": "execute_result"
    }
   ],
   "execution_count": 266
  },
  {
   "metadata": {
    "ExecuteTime": {
     "end_time": "2025-01-13T16:25:19.275055Z",
     "start_time": "2025-01-13T16:25:19.264566Z"
    }
   },
   "cell_type": "code",
   "source": "texto2.capitalize()",
   "id": "2cb87406023025a",
   "outputs": [
    {
     "data": {
      "text/plain": [
       "'Ejemplo dos de texto'"
      ]
     },
     "execution_count": 267,
     "metadata": {},
     "output_type": "execute_result"
    }
   ],
   "execution_count": 267
  },
  {
   "metadata": {
    "ExecuteTime": {
     "end_time": "2025-01-13T16:25:19.361696Z",
     "start_time": "2025-01-13T16:25:19.349490Z"
    }
   },
   "cell_type": "code",
   "source": "texto2.upper()",
   "id": "dbf690dccd4a9df7",
   "outputs": [
    {
     "data": {
      "text/plain": [
       "'EJEMPLO DOS DE TEXTO'"
      ]
     },
     "execution_count": 268,
     "metadata": {},
     "output_type": "execute_result"
    }
   ],
   "execution_count": 268
  },
  {
   "metadata": {
    "ExecuteTime": {
     "end_time": "2025-01-13T16:25:19.457884Z",
     "start_time": "2025-01-13T16:25:19.446630Z"
    }
   },
   "cell_type": "code",
   "source": "texto.lower()",
   "id": "c6b39ebd69dfe85f",
   "outputs": [
    {
     "data": {
      "text/plain": [
       "'este es un ejemplo de una variable'"
      ]
     },
     "execution_count": 269,
     "metadata": {},
     "output_type": "execute_result"
    }
   ],
   "execution_count": 269
  },
  {
   "metadata": {
    "ExecuteTime": {
     "end_time": "2025-01-13T16:25:19.526264Z",
     "start_time": "2025-01-13T16:25:19.515719Z"
    }
   },
   "cell_type": "code",
   "source": "texto2.lower()",
   "id": "386cc0d147d03dfc",
   "outputs": [
    {
     "data": {
      "text/plain": [
       "'ejemplo dos de texto'"
      ]
     },
     "execution_count": 270,
     "metadata": {},
     "output_type": "execute_result"
    }
   ],
   "execution_count": 270
  },
  {
   "metadata": {
    "ExecuteTime": {
     "end_time": "2025-01-13T16:25:19.622587Z",
     "start_time": "2025-01-13T16:25:19.610230Z"
    }
   },
   "cell_type": "code",
   "source": "texto2.count(\"o\")",
   "id": "1f544e0f7d5dce94",
   "outputs": [
    {
     "data": {
      "text/plain": [
       "3"
      ]
     },
     "execution_count": 271,
     "metadata": {},
     "output_type": "execute_result"
    }
   ],
   "execution_count": 271
  },
  {
   "metadata": {
    "ExecuteTime": {
     "end_time": "2025-01-13T16:25:19.718903Z",
     "start_time": "2025-01-13T16:25:19.707953Z"
    }
   },
   "cell_type": "code",
   "source": "texto2.count(\"t\")",
   "id": "fbffc40ec8aa8fc8",
   "outputs": [
    {
     "data": {
      "text/plain": [
       "2"
      ]
     },
     "execution_count": 272,
     "metadata": {},
     "output_type": "execute_result"
    }
   ],
   "execution_count": 272
  },
  {
   "metadata": {
    "ExecuteTime": {
     "end_time": "2025-01-13T16:25:19.792059Z",
     "start_time": "2025-01-13T16:25:19.780067Z"
    }
   },
   "cell_type": "code",
   "source": "texto2.startswith(\"Ejemplo\")",
   "id": "4fe71f68c03f7387",
   "outputs": [
    {
     "data": {
      "text/plain": [
       "True"
      ]
     },
     "execution_count": 273,
     "metadata": {},
     "output_type": "execute_result"
    }
   ],
   "execution_count": 273
  },
  {
   "metadata": {
    "ExecuteTime": {
     "end_time": "2025-01-13T16:25:19.855271Z",
     "start_time": "2025-01-13T16:25:19.843113Z"
    }
   },
   "cell_type": "code",
   "source": [
    "# Atributos\n",
    "c = 5 + 2j\n",
    "type(c)"
   ],
   "id": "75aaf7d6ae7df1c",
   "outputs": [
    {
     "data": {
      "text/plain": [
       "complex"
      ]
     },
     "execution_count": 274,
     "metadata": {},
     "output_type": "execute_result"
    }
   ],
   "execution_count": 274
  },
  {
   "metadata": {
    "ExecuteTime": {
     "end_time": "2025-01-13T16:25:19.926727Z",
     "start_time": "2025-01-13T16:25:19.916018Z"
    }
   },
   "cell_type": "code",
   "source": "c.real # Atributo parte Real",
   "id": "e41cb4ac35e890fe",
   "outputs": [
    {
     "data": {
      "text/plain": [
       "5.0"
      ]
     },
     "execution_count": 275,
     "metadata": {},
     "output_type": "execute_result"
    }
   ],
   "execution_count": 275
  },
  {
   "metadata": {
    "ExecuteTime": {
     "end_time": "2025-01-13T16:25:20.015536Z",
     "start_time": "2025-01-13T16:25:20.004085Z"
    }
   },
   "cell_type": "code",
   "source": "c.imag # Atributo parte imaginaria",
   "id": "e6a534c62439f583",
   "outputs": [
    {
     "data": {
      "text/plain": [
       "2.0"
      ]
     },
     "execution_count": 276,
     "metadata": {},
     "output_type": "execute_result"
    }
   ],
   "execution_count": 276
  },
  {
   "metadata": {
    "ExecuteTime": {
     "end_time": "2025-01-13T16:25:20.118634Z",
     "start_time": "2025-01-13T16:25:20.105769Z"
    }
   },
   "cell_type": "code",
   "source": "c.conjugate() # Método conjugada",
   "id": "a5fb710caaa79cd7",
   "outputs": [
    {
     "data": {
      "text/plain": [
       "(5-2j)"
      ]
     },
     "execution_count": 277,
     "metadata": {},
     "output_type": "execute_result"
    }
   ],
   "execution_count": 277
  },
  {
   "metadata": {},
   "cell_type": "markdown",
   "source": [
    "## 2- Algunas reglas Básicas para manipulación de Variables\n",
    "1. No pueden contener espacios en blanco\n",
    "2. No pueden contener símbolos (ñ, tildes)\n",
    "3. Pueden contener números, pero no pueden comenzar con números\n",
    "4. Pueden contener guiones de piso \" _ \"\n",
    "5. Ejemplos válidos: registro_01, reg6\n",
    "6. Ejemplos no válidos: 01_registro, 6reg, registro 89"
   ],
   "id": "b24877ad196f9725"
  },
  {
   "metadata": {
    "ExecuteTime": {
     "end_time": "2025-01-13T16:25:20.165314Z",
     "start_time": "2025-01-13T16:25:20.158602Z"
    }
   },
   "cell_type": "code",
   "source": "texto_9 = \"tres\"",
   "id": "22fe1121c5061c4e",
   "outputs": [],
   "execution_count": 278
  }
 ],
 "metadata": {
  "kernelspec": {
   "display_name": "Python 3",
   "language": "python",
   "name": "python3"
  },
  "language_info": {
   "codemirror_mode": {
    "name": "ipython",
    "version": 2
   },
   "file_extension": ".py",
   "mimetype": "text/x-python",
   "name": "python",
   "nbconvert_exporter": "python",
   "pygments_lexer": "ipython2",
   "version": "2.7.6"
  }
 },
 "nbformat": 4,
 "nbformat_minor": 5
}
