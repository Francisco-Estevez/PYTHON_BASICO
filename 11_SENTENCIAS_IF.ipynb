{
 "cells": [
  {
   "metadata": {},
   "cell_type": "markdown",
   "source": "# Sentencias if",
   "id": "d7babdff3655352c"
  },
  {
   "metadata": {},
   "cell_type": "markdown",
   "source": [
    "## 1- Sentencia if....else\n",
    "Ejemplo de uso: Tomar el puntaje obtenido por un estudiante en una prueba, y si este puntaje es mayor o igual a 60 imprimiremos \"Aprobado\", y si no, \"No aprobado\""
   ],
   "id": "9585b2d3366903bb"
  },
  {
   "metadata": {
    "ExecuteTime": {
     "end_time": "2025-01-14T16:54:20.367626Z",
     "start_time": "2025-01-14T16:54:07.554889Z"
    }
   },
   "cell_type": "code",
   "source": "puntaje = float(input(\"Ingrese el puntaje obtenido: \"))",
   "id": "8596f46b2bb994ea",
   "outputs": [],
   "execution_count": 1
  },
  {
   "metadata": {
    "ExecuteTime": {
     "end_time": "2025-01-14T16:59:12.775333Z",
     "start_time": "2025-01-14T16:59:12.769368Z"
    }
   },
   "cell_type": "code",
   "source": [
    "# Sentencia if...else\n",
    "if puntaje >= 60:\n",
    "    print(\"Aprobado\")\n",
    "    print(\"Felicitaciones\")\n",
    "else:\n",
    "    print(\"No aprobado\")\n",
    "    print(\"Debe tomar el curso nuevamente\")"
   ],
   "id": "364dd8ba9a519d54",
   "outputs": [
    {
     "name": "stdout",
     "output_type": "stream",
     "text": [
      "Aprobado\n",
      "Felicitaciones\n"
     ]
    }
   ],
   "execution_count": 2
  },
  {
   "metadata": {},
   "cell_type": "markdown",
   "source": [
    "## 2- if...elif...else\n",
    "Tomar el puntaje obtenido por el estudiante e imprimir en pantalla lo siguiente dependiendo del resultado:\n",
    "- puntaje >= 95: \"Nivel superior\"\n",
    "- puntaje >= 80 y <95: \"Nivel alto\"\n",
    "- puntaje >= 60 y <80: \"Nivel medio\"\n",
    "- puntaje <60: \"Nivel bajo\""
   ],
   "id": "109b37af8b8187bc"
  },
  {
   "metadata": {
    "ExecuteTime": {
     "end_time": "2025-01-14T19:17:06.705472Z",
     "start_time": "2025-01-14T19:16:59.176729Z"
    }
   },
   "cell_type": "code",
   "source": "puntaje = float(input(\"Ingrese el puntaje obtenido: \"))",
   "id": "48f312f49ab9e8ec",
   "outputs": [],
   "execution_count": 5
  },
  {
   "metadata": {
    "ExecuteTime": {
     "end_time": "2025-01-14T19:17:09.007032Z",
     "start_time": "2025-01-14T19:17:09.000571Z"
    }
   },
   "cell_type": "code",
   "source": [
    "# if...elif...else\n",
    "if puntaje >= 95:\n",
    "    print(\"Nivel superior\")\n",
    "elif puntaje >= 80:\n",
    "    print(\"Nivel alto\")\n",
    "elif puntaje >= 60:\n",
    "    print(\"Nivel medio\")\n",
    "else:\n",
    "    print(\"Nivel bajo\")"
   ],
   "id": "24099cc7a1629aca",
   "outputs": [
    {
     "name": "stdout",
     "output_type": "stream",
     "text": [
      "Nivel alto\n"
     ]
    }
   ],
   "execution_count": 6
  },
  {
   "metadata": {},
   "cell_type": "code",
   "outputs": [],
   "execution_count": null,
   "source": [
    "# Otra alternativa\n",
    "mensaje = \"Nivel bajo\"\n",
    "if puntaje >= 95:\n",
    "    mensaje = \"Nivel superior\"\n",
    "elif puntaje >= 80:\n",
    "    mensaje = \"Nivel alto\"\n",
    "elif puntaje >= 60:\n",
    "    mensaje = \"Nivel medio\"\n",
    "print(mensaje)"
   ],
   "id": "7a436137e829b96c"
  }
 ],
 "metadata": {
  "kernelspec": {
   "display_name": "Python 3",
   "language": "python",
   "name": "python3"
  },
  "language_info": {
   "codemirror_mode": {
    "name": "ipython",
    "version": 2
   },
   "file_extension": ".py",
   "mimetype": "text/x-python",
   "name": "python",
   "nbconvert_exporter": "python",
   "pygments_lexer": "ipython2",
   "version": "2.7.6"
  }
 },
 "nbformat": 4,
 "nbformat_minor": 5
}
