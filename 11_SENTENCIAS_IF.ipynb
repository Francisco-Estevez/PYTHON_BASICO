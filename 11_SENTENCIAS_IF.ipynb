{
 "cells": [
  {
   "metadata": {},
   "cell_type": "markdown",
   "source": "# Sentencias if",
   "id": "d7babdff3655352c"
  },
  {
   "metadata": {},
   "cell_type": "markdown",
   "source": [
    "## 1- Sentencia if....else\n",
    "Ejemplo de uso: Tomar el puntaje obtenido por un estudiante en una prueba, y si este puntaje es mayor o igual a 60 imprimiremos \"Aprobado\", y si no, \"No aprobado\""
   ],
   "id": "9585b2d3366903bb"
  },
  {
   "metadata": {
    "ExecuteTime": {
     "end_time": "2025-01-14T16:54:20.367626Z",
     "start_time": "2025-01-14T16:54:07.554889Z"
    }
   },
   "cell_type": "code",
   "source": "puntaje = float(input(\"Ingrese el puntaje obtenido: \"))",
   "id": "8596f46b2bb994ea",
   "outputs": [],
   "execution_count": 1
  },
  {
   "metadata": {
    "ExecuteTime": {
     "end_time": "2025-01-14T16:59:12.775333Z",
     "start_time": "2025-01-14T16:59:12.769368Z"
    }
   },
   "cell_type": "code",
   "source": [
    "# Sentencia if...else\n",
    "if puntaje >= 60:\n",
    "    print(\"Aprobado\")\n",
    "    print(\"Felicitaciones\")\n",
    "else:\n",
    "    print(\"No aprobado\")\n",
    "    print(\"Debe tomar el curso nuevamente\")"
   ],
   "id": "364dd8ba9a519d54",
   "outputs": [
    {
     "name": "stdout",
     "output_type": "stream",
     "text": [
      "Aprobado\n",
      "Felicitaciones\n"
     ]
    }
   ],
   "execution_count": 2
  },
  {
   "metadata": {},
   "cell_type": "code",
   "outputs": [],
   "execution_count": null,
   "source": "",
   "id": "8556c820c34f2227"
  }
 ],
 "metadata": {
  "kernelspec": {
   "display_name": "Python 3",
   "language": "python",
   "name": "python3"
  },
  "language_info": {
   "codemirror_mode": {
    "name": "ipython",
    "version": 2
   },
   "file_extension": ".py",
   "mimetype": "text/x-python",
   "name": "python",
   "nbconvert_exporter": "python",
   "pygments_lexer": "ipython2",
   "version": "2.7.6"
  }
 },
 "nbformat": 4,
 "nbformat_minor": 5
}
