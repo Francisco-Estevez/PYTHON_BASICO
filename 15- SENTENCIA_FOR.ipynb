{
 "cells": [
  {
   "metadata": {},
   "cell_type": "markdown",
   "source": "# SENTENCIA FOR",
   "id": "203b8be7a1fa6a5b"
  },
  {
   "metadata": {},
   "cell_type": "markdown",
   "source": "En esta lección hablaremos de la sentencia «for», la tercera sentencia de control más importante en Python, y que permite ejecutar una porción de código un número fijo de iteraciones.",
   "id": "773abb7b339f18de"
  },
  {
   "metadata": {},
   "cell_type": "markdown",
   "source": "# Estructura",
   "id": "41d0698c4130e545"
  },
  {
   "metadata": {},
   "cell_type": "code",
   "source": [
    "for variable in iterable:\n",
    "    # Línea 1 a ejecutar en cada iteración\n",
    "    # Línea 2 a ejecutar en cada iteración\n",
    "    # ....\n",
    "    # Línea n a ejecutar en cada iteración\n",
    "# Línea No indentada a la derecha: no se ejecuta de forma repetitiva"
   ],
   "id": "998e82061353e6ce",
   "outputs": [],
   "execution_count": null
  },
  {
   "metadata": {},
   "cell_type": "markdown",
   "source": "# Ejemplos",
   "id": "9c6590a01da697f4"
  },
  {
   "metadata": {},
   "cell_type": "code",
   "source": [
    "# 1- Imprimir cada letra de una palabra usando \"for\"\n",
    "for letra in \"Python\":\n",
    "    print(letra)\n",
    "print(\"Fin\")"
   ],
   "id": "c3665c5bef708810",
   "outputs": [],
   "execution_count": null
  },
  {
   "metadata": {},
   "cell_type": "code",
   "source": [
    "# 2- Usando la función \"range\"\n",
    "for numero in range(10):\n",
    "    print(numero)"
   ],
   "id": "3c2762b4698778e5",
   "outputs": [],
   "execution_count": null
  },
  {
   "metadata": {},
   "cell_type": "code",
   "source": "range?",
   "id": "2d8c298a5e09fc46",
   "outputs": [],
   "execution_count": null
  },
  {
   "metadata": {},
   "cell_type": "code",
   "source": [
    "for numero in range(1, 10,2):\n",
    "    print(numero)"
   ],
   "id": "65db6292a528bef4",
   "outputs": [],
   "execution_count": null
  },
  {
   "metadata": {},
   "cell_type": "code",
   "source": [
    "# Un ejemplo completo: Invertimos 1000 dólares en la bolsa de valores\n",
    "# El interés mensual es del 0.8%. Calcular el saldo después de un año\n",
    "\n",
    "saldo = 1000\n",
    "\n",
    "interes = 0.8 / 100\n",
    "for mes in range(1, 13):\n",
    "    # Actualizar el saldo\n",
    "    saldo = saldo + (saldo * interes)\n",
    "\n",
    "    # Imprimir en pantalla el saldo actualizado\n",
    "    print(f\"Mes {mes}: Saldo = {saldo}\")"
   ],
   "id": "50f34f7e43c60589",
   "outputs": [],
   "execution_count": null
  }
 ],
 "metadata": {
  "kernelspec": {
   "display_name": "Python 3",
   "language": "python",
   "name": "python3"
  },
  "language_info": {
   "codemirror_mode": {
    "name": "ipython",
    "version": 2
   },
   "file_extension": ".py",
   "mimetype": "text/x-python",
   "name": "python",
   "nbconvert_exporter": "python",
   "pygments_lexer": "ipython2",
   "version": "2.7.6"
  }
 },
 "nbformat": 4,
 "nbformat_minor": 5
}
