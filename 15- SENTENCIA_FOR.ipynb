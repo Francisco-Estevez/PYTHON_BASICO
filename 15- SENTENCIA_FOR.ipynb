{
 "cells": [
  {
   "metadata": {},
   "cell_type": "markdown",
   "source": "# SENTENCIA FOR",
   "id": "203b8be7a1fa6a5b"
  },
  {
   "metadata": {},
   "cell_type": "markdown",
   "source": "En esta lección hablaremos de la sentencia «for», la tercera sentencia de control más importante en Python, y que permite ejecutar una porción de código un número fijo de iteraciones.",
   "id": "773abb7b339f18de"
  },
  {
   "metadata": {},
   "cell_type": "markdown",
   "source": "# Estructura",
   "id": "41d0698c4130e545"
  },
  {
   "metadata": {},
   "cell_type": "code",
   "outputs": [],
   "execution_count": null,
   "source": [
    "for variable in iterable:\n",
    "    # Línea 1 a ejecutar en cada iteración\n",
    "    # Línea 2 a ejecutar en cada iteración\n",
    "    # ....\n",
    "    # Línea n a ejecutar en cada iteración\n",
    "# Línea No indentada a la derecha: no se ejecuta de forma repetitiva"
   ],
   "id": "998e82061353e6ce"
  },
  {
   "metadata": {},
   "cell_type": "markdown",
   "source": "# Ejemplos",
   "id": "9c6590a01da697f4"
  },
  {
   "metadata": {
    "ExecuteTime": {
     "end_time": "2025-01-15T16:54:16.707615Z",
     "start_time": "2025-01-15T16:54:16.699433Z"
    }
   },
   "cell_type": "code",
   "source": [
    "# 1- Imprimir cada letra de una palabra usando for\n",
    "for letra in \"Python\":\n",
    "    print(letra)\n",
    "print(\"Fin\")"
   ],
   "id": "c3665c5bef708810",
   "outputs": [
    {
     "name": "stdout",
     "output_type": "stream",
     "text": [
      "P\n",
      "y\n",
      "t\n",
      "h\n",
      "o\n",
      "n\n",
      "Fin\n"
     ]
    }
   ],
   "execution_count": 2
  },
  {
   "metadata": {},
   "cell_type": "code",
   "outputs": [],
   "execution_count": null,
   "source": "",
   "id": "3c2762b4698778e5"
  }
 ],
 "metadata": {
  "kernelspec": {
   "display_name": "Python 3",
   "language": "python",
   "name": "python3"
  },
  "language_info": {
   "codemirror_mode": {
    "name": "ipython",
    "version": 2
   },
   "file_extension": ".py",
   "mimetype": "text/x-python",
   "name": "python",
   "nbconvert_exporter": "python",
   "pygments_lexer": "ipython2",
   "version": "2.7.6"
  }
 },
 "nbformat": 4,
 "nbformat_minor": 5
}
