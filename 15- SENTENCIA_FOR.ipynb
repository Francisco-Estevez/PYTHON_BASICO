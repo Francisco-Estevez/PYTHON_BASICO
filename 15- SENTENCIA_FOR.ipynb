{
 "cells": [
  {
   "metadata": {},
   "cell_type": "markdown",
   "source": "# SENTENCIA FOR",
   "id": "203b8be7a1fa6a5b"
  },
  {
   "metadata": {},
   "cell_type": "markdown",
   "source": "En esta lección hablaremos de la sentencia «for», la tercera sentencia de control más importante en Python, y que permite ejecutar una porción de código un número fijo de iteraciones.",
   "id": "773abb7b339f18de"
  },
  {
   "metadata": {},
   "cell_type": "markdown",
   "source": "# Estructura",
   "id": "41d0698c4130e545"
  },
  {
   "metadata": {},
   "cell_type": "code",
   "outputs": [],
   "execution_count": null,
   "source": [
    "for variable in iterable:\n",
    "    # Línea 1 a ejecutar en cada iteración\n",
    "    # Línea 2 a ejecutar en cada iteración\n",
    "    # ....\n",
    "    # Línea n a ejecutar en cada iteración\n",
    "# Línea No indentada a la derecha: no se ejecuta de forma repetitiva"
   ],
   "id": "998e82061353e6ce"
  },
  {
   "metadata": {},
   "cell_type": "markdown",
   "source": "# Ejemplos",
   "id": "9c6590a01da697f4"
  },
  {
   "metadata": {
    "ExecuteTime": {
     "end_time": "2025-01-15T16:54:16.707615Z",
     "start_time": "2025-01-15T16:54:16.699433Z"
    }
   },
   "cell_type": "code",
   "source": [
    "# 1- Imprimir cada letra de una palabra usando \"for\"\n",
    "for letra in \"Python\":\n",
    "    print(letra)\n",
    "print(\"Fin\")"
   ],
   "id": "c3665c5bef708810",
   "outputs": [
    {
     "name": "stdout",
     "output_type": "stream",
     "text": [
      "P\n",
      "y\n",
      "t\n",
      "h\n",
      "o\n",
      "n\n",
      "Fin\n"
     ]
    }
   ],
   "execution_count": 2
  },
  {
   "metadata": {
    "ExecuteTime": {
     "end_time": "2025-01-15T16:57:11.219986Z",
     "start_time": "2025-01-15T16:57:11.213317Z"
    }
   },
   "cell_type": "code",
   "source": [
    "# 2- Usando la función \"range\"\n",
    "for numero in range(10):\n",
    "    print(numero)"
   ],
   "id": "3c2762b4698778e5",
   "outputs": [
    {
     "name": "stdout",
     "output_type": "stream",
     "text": [
      "0\n",
      "1\n",
      "2\n",
      "3\n",
      "4\n",
      "5\n",
      "6\n",
      "7\n",
      "8\n",
      "9\n"
     ]
    }
   ],
   "execution_count": 3
  },
  {
   "metadata": {
    "ExecuteTime": {
     "end_time": "2025-01-15T20:14:35.676420Z",
     "start_time": "2025-01-15T20:14:35.612016Z"
    }
   },
   "cell_type": "code",
   "source": "range?",
   "id": "2d8c298a5e09fc46",
   "outputs": [],
   "execution_count": 1
  },
  {
   "metadata": {
    "ExecuteTime": {
     "end_time": "2025-01-15T20:17:51.647921Z",
     "start_time": "2025-01-15T20:17:51.638668Z"
    }
   },
   "cell_type": "code",
   "source": [
    "for numero in range(1, 10,2):\n",
    "    print(numero)"
   ],
   "id": "65db6292a528bef4",
   "outputs": [
    {
     "name": "stdout",
     "output_type": "stream",
     "text": [
      "1\n",
      "3\n",
      "5\n",
      "7\n",
      "9\n"
     ]
    }
   ],
   "execution_count": 2
  },
  {
   "metadata": {
    "ExecuteTime": {
     "end_time": "2025-01-15T20:27:25.059346Z",
     "start_time": "2025-01-15T20:27:25.051041Z"
    }
   },
   "cell_type": "code",
   "source": [
    "# Un ejemplo completo: Invertimos 1000 dólares en la bolsa de valores\n",
    "# El interés mensual es del 0.8%. Calcular el saldo después de un año\n",
    "\n",
    "saldo = 1000\n",
    "\n",
    "interes = 0.8 / 100\n",
    "for mes in range(1, 13):\n",
    "    # Actualizar el saldo\n",
    "    saldo = saldo + (saldo * interes)\n",
    "\n",
    "    # Imprimir en pantalla el saldo actualizado\n",
    "    print(f\"Mes {mes}: Saldo = {saldo}\")"
   ],
   "id": "50f34f7e43c60589",
   "outputs": [
    {
     "name": "stdout",
     "output_type": "stream",
     "text": [
      "Mes 1: Saldo = 1008.0\n",
      "Mes 2: Saldo = 1016.064\n",
      "Mes 3: Saldo = 1024.192512\n",
      "Mes 4: Saldo = 1032.3860520960002\n",
      "Mes 5: Saldo = 1040.6451405127682\n",
      "Mes 6: Saldo = 1048.9703016368703\n",
      "Mes 7: Saldo = 1057.3620640499653\n",
      "Mes 8: Saldo = 1065.820960562365\n",
      "Mes 9: Saldo = 1074.347528246864\n",
      "Mes 10: Saldo = 1082.942308472839\n",
      "Mes 11: Saldo = 1091.6058469406216\n",
      "Mes 12: Saldo = 1100.3386937161465\n"
     ]
    }
   ],
   "execution_count": 3
  },
  {
   "metadata": {},
   "cell_type": "code",
   "outputs": [],
   "execution_count": null,
   "source": "",
   "id": "e6b57cd265850fe4"
  }
 ],
 "metadata": {
  "kernelspec": {
   "display_name": "Python 3",
   "language": "python",
   "name": "python3"
  },
  "language_info": {
   "codemirror_mode": {
    "name": "ipython",
    "version": 2
   },
   "file_extension": ".py",
   "mimetype": "text/x-python",
   "name": "python",
   "nbconvert_exporter": "python",
   "pygments_lexer": "ipython2",
   "version": "2.7.6"
  }
 },
 "nbformat": 4,
 "nbformat_minor": 5
}
