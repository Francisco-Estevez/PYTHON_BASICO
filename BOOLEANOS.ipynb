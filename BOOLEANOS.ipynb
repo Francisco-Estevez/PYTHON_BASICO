{
 "cells": [
  {
   "metadata": {},
   "cell_type": "markdown",
   "source": "# 10 – Operadores de comparación y variables booleanas",
   "id": "4858e6ef2954d39e"
  },
  {
   "metadata": {},
   "cell_type": "markdown",
   "source": "En python una condición permite comparar dos variables y arrojar un resultado que puede ser verdadero (True) y Falso (False), es decir, una variable booleana",
   "id": "58ee1fa6d8cadc7e"
  },
  {
   "metadata": {
    "ExecuteTime": {
     "end_time": "2025-01-14T16:00:45.174550Z",
     "start_time": "2025-01-14T16:00:45.169269Z"
    }
   },
   "cell_type": "code",
   "source": [
    "# Operador mayor que: >\n",
    "7 > 4"
   ],
   "id": "5ee258930f625206",
   "outputs": [
    {
     "data": {
      "text/plain": [
       "True"
      ]
     },
     "execution_count": 5,
     "metadata": {},
     "output_type": "execute_result"
    }
   ],
   "execution_count": 5
  },
  {
   "metadata": {
    "ExecuteTime": {
     "end_time": "2025-01-14T16:01:50.902360Z",
     "start_time": "2025-01-14T16:01:50.896468Z"
    }
   },
   "cell_type": "code",
   "source": [
    "# Operador menor que: <\n",
    "4 < 7"
   ],
   "id": "16fc91621446f5ec",
   "outputs": [
    {
     "data": {
      "text/plain": [
       "True"
      ]
     },
     "execution_count": 7,
     "metadata": {},
     "output_type": "execute_result"
    }
   ],
   "execution_count": 7
  },
  {
   "metadata": {
    "ExecuteTime": {
     "end_time": "2025-01-14T16:02:47.158225Z",
     "start_time": "2025-01-14T16:02:47.152442Z"
    }
   },
   "cell_type": "code",
   "source": [
    "# Operador mayor o igual que: >=\n",
    "7 >= 7"
   ],
   "id": "e3a83fd7c4064f13",
   "outputs": [
    {
     "data": {
      "text/plain": [
       "True"
      ]
     },
     "execution_count": 8,
     "metadata": {},
     "output_type": "execute_result"
    }
   ],
   "execution_count": 8
  },
  {
   "metadata": {},
   "cell_type": "code",
   "outputs": [],
   "execution_count": null,
   "source": [
    "# Menor o igual que: <=\n",
    "7 <= 2"
   ],
   "id": "ce967c5daf3fd348"
  },
  {
   "metadata": {
    "ExecuteTime": {
     "end_time": "2025-01-14T16:09:13.024652Z",
     "start_time": "2025-01-14T16:09:13.017891Z"
    }
   },
   "cell_type": "code",
   "source": [
    "# Operador de igualdad: == Se utilizan estos dos símbolos de igual, porque si utilizamos un símbolo de igual, Python interpretará que se está almacenando una información en una variable\n",
    "2 == 2"
   ],
   "id": "4f508fdcd669992a",
   "outputs": [
    {
     "data": {
      "text/plain": [
       "True"
      ]
     },
     "execution_count": 9,
     "metadata": {},
     "output_type": "execute_result"
    }
   ],
   "execution_count": 9
  },
  {
   "metadata": {
    "ExecuteTime": {
     "end_time": "2025-01-14T16:12:32.937091Z",
     "start_time": "2025-01-14T16:12:32.930723Z"
    }
   },
   "cell_type": "code",
   "source": [
    "# El mismo operador de igualdad lo podemos usar con cadenas de texto (strings)\n",
    "\"Palabra\" == \"palabra\"\n",
    "# En este caso nos arrojará un resultado falso (False), porque recordemos que Python diferencia entre mayúsculas y minúsculas"
   ],
   "id": "f037314a51925de",
   "outputs": [
    {
     "data": {
      "text/plain": [
       "False"
      ]
     },
     "execution_count": 12,
     "metadata": {},
     "output_type": "execute_result"
    }
   ],
   "execution_count": 12
  },
  {
   "metadata": {
    "ExecuteTime": {
     "end_time": "2025-01-14T16:13:28.393912Z",
     "start_time": "2025-01-14T16:13:28.387157Z"
    }
   },
   "cell_type": "code",
   "source": [
    "# Operador es diferente de: !=\n",
    "2 != 3"
   ],
   "id": "87c1007254261d5e",
   "outputs": [
    {
     "data": {
      "text/plain": [
       "True"
      ]
     },
     "execution_count": 13,
     "metadata": {},
     "output_type": "execute_result"
    }
   ],
   "execution_count": 13
  },
  {
   "metadata": {
    "ExecuteTime": {
     "end_time": "2025-01-14T16:15:05.198392Z",
     "start_time": "2025-01-14T16:15:05.191894Z"
    }
   },
   "cell_type": "code",
   "source": [
    "# Operador \"diferente de\" aplicado en cadenas de textos (strings)\n",
    "\"palabra\" != \"palabra\""
   ],
   "id": "e9b39afa2b329a02",
   "outputs": [
    {
     "data": {
      "text/plain": [
       "False"
      ]
     },
     "execution_count": 15,
     "metadata": {},
     "output_type": "execute_result"
    }
   ],
   "execution_count": 15
  },
  {
   "metadata": {},
   "cell_type": "code",
   "outputs": [],
   "execution_count": null,
   "source": "",
   "id": "231d542808269fb"
  }
 ],
 "metadata": {
  "kernelspec": {
   "display_name": "Python 3",
   "language": "python",
   "name": "python3"
  },
  "language_info": {
   "codemirror_mode": {
    "name": "ipython",
    "version": 2
   },
   "file_extension": ".py",
   "mimetype": "text/x-python",
   "name": "python",
   "nbconvert_exporter": "python",
   "pygments_lexer": "ipython2",
   "version": "2.7.6"
  }
 },
 "nbformat": 4,
 "nbformat_minor": 5
}
