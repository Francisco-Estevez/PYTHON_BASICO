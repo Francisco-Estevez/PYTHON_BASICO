{
 "cells": [
  {
   "metadata": {},
   "cell_type": "markdown",
   "source": "# Sentencias break y continue",
   "id": "842a1d94d04d908d"
  },
  {
   "metadata": {},
   "cell_type": "markdown",
   "source": [
    "La sentencia break en un ciclo while detiene el ciclo si una condición se cumple, ejecutando de esta forma el código posterior al while. Y el funcionamiento es similar, pero cuando usamos un ciclo for.\n",
    "\n",
    "Por otra parte, la sentencia continue en un ciclo while salta a la siguiente iteración sin ejecutar el código restante de la iteración actual si una condición es verdadera, y en un ciclo for opera de una manera similar."
   ],
   "id": "aafc61407c23dfa2"
  },
  {
   "metadata": {},
   "cell_type": "markdown",
   "source": "# Sentencia break + while",
   "id": "df0ae51d44e271f8"
  },
  {
   "metadata": {},
   "cell_type": "code",
   "source": [
    "while condicion_while:\n",
    "    # Primera parte del código a ejecutar\n",
    "    # ...\n",
    "\n",
    "    if condicion_break:\n",
    "        break\n",
    "    # Segunda parte del código a ejecutar\n",
    "    # ...\n",
    "# Código a ejecutar después del while"
   ],
   "id": "e2f6d7d00061c50f",
   "outputs": [],
   "execution_count": null
  },
  {
   "metadata": {
    "ExecuteTime": {
     "end_time": "2025-01-15T20:54:46.288363Z",
     "start_time": "2025-01-15T20:53:50.076958Z"
    }
   },
   "cell_type": "code",
   "source": [
    "saldo = 1000\n",
    "dia = 0\n",
    "\n",
    "while saldo >= 0:\n",
    "    # Actualizar el día\n",
    "    dia += 1\n",
    "\n",
    "    # Solicitar al usuario el monto a retirar\n",
    "    retiro = int(input(\"Ingrese el monto a retirar:\"))\n",
    "\n",
    "    # Agregar la sentencia break\n",
    "    if retiro > saldo:\n",
    "        print(\"El monto de retiro es superior al saldo disponible.\")\n",
    "        break\n",
    "\n",
    "    # Actualizar el saldo\n",
    "    saldo -= retiro\n",
    "\n",
    "    # Imprimir en pantalla el día y el saldo\n",
    "    print(f\"Día {dia}. Saldo {saldo}\")\n",
    "\n",
    "print(\"Retiro finalizado.\")"
   ],
   "id": "15a664ca04a9cb79",
   "outputs": [
    {
     "name": "stdout",
     "output_type": "stream",
     "text": [
      "Día 1. Saldo 400\n",
      "Día 2. Saldo 50\n",
      "El monto de retiro es superior al saldo disponible.\n",
      "Retiro finalizado.\n"
     ]
    }
   ],
   "execution_count": 2
  }
 ],
 "metadata": {
  "kernelspec": {
   "display_name": "Python 3",
   "language": "python",
   "name": "python3"
  },
  "language_info": {
   "codemirror_mode": {
    "name": "ipython",
    "version": 2
   },
   "file_extension": ".py",
   "mimetype": "text/x-python",
   "name": "python",
   "nbconvert_exporter": "python",
   "pygments_lexer": "ipython2",
   "version": "2.7.6"
  }
 },
 "nbformat": 4,
 "nbformat_minor": 5
}
