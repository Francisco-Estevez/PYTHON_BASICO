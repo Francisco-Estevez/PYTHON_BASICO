{
 "cells": [
  {
   "metadata": {},
   "cell_type": "markdown",
   "source": "# SENTENCIAS BREAK Y CONTINUE",
   "id": "842a1d94d04d908d"
  },
  {
   "metadata": {},
   "cell_type": "markdown",
   "source": [
    "La sentencia break en un ciclo while detiene el ciclo si una condición se cumple, ejecutando de esta forma el código posterior al while. Y el funcionamiento es similar, pero cuando usamos un ciclo for.\n",
    "\n",
    "Por otra parte, la sentencia continue en un ciclo while salta a la siguiente iteración sin ejecutar el código restante de la iteración actual si una condición es verdadera, y en un ciclo for opera de una manera similar."
   ],
   "id": "aafc61407c23dfa2"
  },
  {
   "metadata": {},
   "cell_type": "markdown",
   "source": "# Sentencia Break + While",
   "id": "df0ae51d44e271f8"
  },
  {
   "metadata": {},
   "cell_type": "code",
   "outputs": [],
   "execution_count": null,
   "source": [
    "while condicion_while:\n",
    "    # Primera parte del código a ejecutar\n",
    "    # ...\n",
    "\n",
    "    if condicion_break:\n",
    "        break"
   ],
   "id": "e2f6d7d00061c50f"
  }
 ],
 "metadata": {
  "kernelspec": {
   "display_name": "Python 3",
   "language": "python",
   "name": "python3"
  },
  "language_info": {
   "codemirror_mode": {
    "name": "ipython",
    "version": 2
   },
   "file_extension": ".py",
   "mimetype": "text/x-python",
   "name": "python",
   "nbconvert_exporter": "python",
   "pygments_lexer": "ipython2",
   "version": "2.7.6"
  }
 },
 "nbformat": 4,
 "nbformat_minor": 5
}
