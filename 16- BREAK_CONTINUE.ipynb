{
 "cells": [
  {
   "metadata": {},
   "cell_type": "markdown",
   "source": "# Sentencias break y continue",
   "id": "842a1d94d04d908d"
  },
  {
   "metadata": {},
   "cell_type": "markdown",
   "source": [
    "La sentencia break en un ciclo while detiene el ciclo si una condición se cumple, ejecutando de esta forma el código posterior al while. Y el funcionamiento es similar, pero cuando usamos un ciclo for.\n",
    "\n",
    "Por otra parte, la sentencia continue en un ciclo while salta a la siguiente iteración sin ejecutar el código restante de la iteración actual si una condición es verdadera, y en un ciclo for opera de una manera similar."
   ],
   "id": "aafc61407c23dfa2"
  },
  {
   "metadata": {},
   "cell_type": "markdown",
   "source": "# Sentencia break + while",
   "id": "df0ae51d44e271f8"
  },
  {
   "metadata": {},
   "cell_type": "code",
   "source": [
    "while condicion_while:\n",
    "    # Primera parte del código a ejecutar\n",
    "    # ...\n",
    "\n",
    "    if condicion_break:\n",
    "        break\n",
    "    # Segunda parte del código a ejecutar\n",
    "    # ...\n",
    "# Código a ejecutar después del while"
   ],
   "id": "e2f6d7d00061c50f",
   "outputs": [],
   "execution_count": null
  },
  {
   "metadata": {},
   "cell_type": "code",
   "source": [
    "saldo = 1000\n",
    "dia = 0\n",
    "\n",
    "while saldo >= 0:\n",
    "    # Actualizar el día\n",
    "    dia += 1\n",
    "\n",
    "    # Solicitar al usuario el monto a retirar\n",
    "    retiro = int(input(\"Ingrese el monto a retirar:\"))\n",
    "\n",
    "    # Agregar la sentencia break\n",
    "    if retiro > saldo:\n",
    "        print(\"El monto de retiro es superior al saldo disponible.\")\n",
    "        break\n",
    "\n",
    "    # Actualizar el saldo\n",
    "    saldo -= retiro\n",
    "\n",
    "    # Imprimir en pantalla el día y el saldo\n",
    "    print(f\"Día {dia}. Saldo {saldo}\")\n",
    "\n",
    "print(\"Retiro finalizado.\")"
   ],
   "id": "15a664ca04a9cb79",
   "outputs": [],
   "execution_count": null
  },
  {
   "metadata": {},
   "cell_type": "markdown",
   "source": "# Sentencia break + for",
   "id": "94daf431224bbf9e"
  },
  {
   "metadata": {},
   "cell_type": "code",
   "source": [
    "for variable in iterador:\n",
    "    # Primera parte del código a ejecutar\n",
    "    # ....\n",
    "# Código a ejecutar después del for"
   ],
   "id": "236d04b150c3ed60",
   "outputs": [],
   "execution_count": null
  },
  {
   "metadata": {},
   "cell_type": "code",
   "source": [
    "for letra in \"Python\":\n",
    "    # Imprimir cada letra\n",
    "    print(letra)\n",
    "\n",
    "    # Introducir \"break\": Detener ejecución del loop si la letra es \"h\"\n",
    "    if letra == \"h\":\n",
    "        print(\"Hemos llegado a la letra h. Se detendrá la ejecución del loop.\")\n",
    "        break\n",
    "\n",
    "    # Imprimir un separador\n",
    "    print(\"-------\")\n",
    "print(\"Fin del programa.\")"
   ],
   "id": "7f74822d8b05b34e",
   "outputs": [],
   "execution_count": null
  },
  {
   "metadata": {},
   "cell_type": "markdown",
   "source": "# Secuencia continue y while",
   "id": "aa94cadb29874e0f"
  },
  {
   "metadata": {},
   "cell_type": "code",
   "source": [
    "while condicion_while:\n",
    "    # Primera parte del código a ejecutar\n",
    "    # ...\n",
    "\n",
    "    if condicion_continue:\n",
    "        continue\n",
    "    # Segunda parte del código a ejecutar\n",
    "    # ...\n",
    "# Código a ejecutar después del while"
   ],
   "id": "a73d502af7fe8791",
   "outputs": [],
   "execution_count": null
  },
  {
   "metadata": {},
   "cell_type": "code",
   "source": [
    "saldo = 1000\n",
    "dia = 0\n",
    "while saldo >= 0:\n",
    "    # Modificar el dia\n",
    "    dia += 1\n",
    "\n",
    "    # Ingresar el monto a retirar\n",
    "    retiro = int(input(\"Ingrese el monto a retirar:\"))\n",
    "\n",
    "    # Agregar el break del ejemplo anterior para evitar retirar un monto Mayor al saldo\n",
    "    if retiro > saldo:\n",
    "        print(\"El monto de retiro es superior al saldo disponible.\")\n",
    "        break\n",
    "\n",
    "    # No permitir al usuario retirar dinero en el día 3\n",
    "    if dia == 3:\n",
    "        print(\"Su cuenta está en mantenimiento. No puede retirar\")\n",
    "        continue\n",
    "\n",
    "    # Actualizar el saldo\n",
    "    saldo -= retiro\n",
    "\n",
    "    # Imprimir en pantalla el día y el saldo\n",
    "    print(f\"Día {dia}. Saldo {saldo}\")\n",
    "\n",
    "print(\"Retiro finalizado.\")"
   ],
   "id": "836f251ec27e4af5",
   "outputs": [],
   "execution_count": null
  },
  {
   "metadata": {},
   "cell_type": "code",
   "source": "",
   "id": "a929db7f722b282b",
   "outputs": [],
   "execution_count": null
  }
 ],
 "metadata": {
  "kernelspec": {
   "display_name": "Python 3",
   "language": "python",
   "name": "python3"
  },
  "language_info": {
   "codemirror_mode": {
    "name": "ipython",
    "version": 2
   },
   "file_extension": ".py",
   "mimetype": "text/x-python",
   "name": "python",
   "nbconvert_exporter": "python",
   "pygments_lexer": "ipython2",
   "version": "2.7.6"
  }
 },
 "nbformat": 4,
 "nbformat_minor": 5
}
