{
 "cells": [
  {
   "metadata": {},
   "cell_type": "markdown",
   "source": [
    "# La sentencia while\n",
    "while es una sentencia de control que permite ejecutar una porción de código de forma repetitiva mientras se cumpla una condición"
   ],
   "id": "599f21107a83e9ff"
  },
  {
   "metadata": {},
   "cell_type": "code",
   "outputs": [],
   "execution_count": null,
   "source": [
    "while condicion:\n",
    "    # Línea 1 a ejecutar\n",
    "    # Línea 2 a ejecutar\n",
    "    # Línea 3 a ejecutar\n",
    "    # ....\n",
    "    # Línea n a ejecutar"
   ],
   "id": "9f5baf1aaacc2e5f"
  },
  {
   "metadata": {},
   "cell_type": "markdown",
   "source": "# Ejemplos",
   "id": "e2c827e824240c02"
  },
  {
   "metadata": {},
   "cell_type": "code",
   "source": [
    "while True:\n",
    "    print(\"Ejecutando código\")\n",
    "    print(\"Ciclo infinito\")"
   ],
   "id": "b8b74bd27523d95b",
   "outputs": [],
   "execution_count": null
  },
  {
   "metadata": {
    "ExecuteTime": {
     "end_time": "2025-01-15T01:41:47.383951Z",
     "start_time": "2025-01-15T01:41:47.377846Z"
    }
   },
   "cell_type": "code",
   "source": [
    "while False:\n",
    "    print(\"Ejecutando código\")\n",
    "    print(\"Ciclo infinito\")"
   ],
   "id": "e279809dd5fb5961",
   "outputs": [],
   "execution_count": 2
  },
  {
   "metadata": {
    "ExecuteTime": {
     "end_time": "2025-01-15T15:42:25.118038Z",
     "start_time": "2025-01-15T15:41:37.000238Z"
    }
   },
   "cell_type": "code",
   "source": [
    "# Un ejemplo más elaborado: tenemos una cuenta de ahorros\n",
    "# con inicial y diariamente hacemos un retiro\n",
    "saldo = 1000\n",
    "dia = 0\n",
    "while saldo >= 0:\n",
    "    # Actualizar el día\n",
    "    dia = dia + 1\n",
    "    # También podemos usar la expresión más compacta: dia += 1\n",
    "    # Entrada: monto a retirar\n",
    "    retiro = int(input(\"Ingrese el monto a retirar: \"))\n",
    "    # Actualizar el saldo\n",
    "    # saldo = saldo - retiro\n",
    "    saldo -= retiro\n",
    "    # Imprimir el día y el saldo disponible\n",
    "    print(f\"Día: {dia}. saldo: {saldo} \")"
   ],
   "id": "fa83c77f449c29e6",
   "outputs": [
    {
     "name": "stdout",
     "output_type": "stream",
     "text": [
      "Día: 1. saldo: 900 \n",
      "Día: 2. saldo: 400 \n",
      "Día: 3. saldo: 100 \n",
      "Día: 4. saldo: -100 \n"
     ]
    }
   ],
   "execution_count": 3
  },
  {
   "metadata": {
    "ExecuteTime": {
     "end_time": "2025-01-15T15:51:07.555832Z",
     "start_time": "2025-01-15T15:50:41.117152Z"
    }
   },
   "cell_type": "code",
   "source": [
    "# Un ejemplo más elaborado: tenemos una cuenta de ahorros\n",
    "# con inicial y diariamente hacemos un retiro. Aquí agregando la sentencia if\n",
    "# a la sentencia while para cuando el saldo resulte en negativo\n",
    "saldo = 1000\n",
    "dia = 0\n",
    "while saldo >= 0:\n",
    "    # Actualizar el día\n",
    "    dia = dia + 1\n",
    "    # También podemos usar la expresión más compacta: dia += 1\n",
    "    # Entrada: monto a retirar\n",
    "    retiro = int(input(\"Ingrese el monto a retirar: \"))\n",
    "    # Actualizar el saldo\n",
    "    # saldo = saldo - retiro\n",
    "    saldo -= retiro\n",
    "    # Imprimir el día y el saldo disponible\n",
    "    print(f\"Día: {dia}. saldo: {saldo} \")\n",
    "\n",
    "    # Agregar la sentencia if para evaluar si el saldo es negativo\n",
    "    if saldo < 0:\n",
    "        print(\"No hay saldo suficiente para realizar el retiro\")"
   ],
   "id": "d5710a71050a4e22",
   "outputs": [
    {
     "name": "stdout",
     "output_type": "stream",
     "text": [
      "Día: 1. saldo: 800 \n",
      "Día: 2. saldo: 500 \n",
      "Día: 3. saldo: 50 \n",
      "Día: 4. saldo: -50 \n",
      "No hay saldo suficiente para realizar el retiro\n"
     ]
    }
   ],
   "execution_count": 4
  },
  {
   "metadata": {},
   "cell_type": "code",
   "outputs": [],
   "execution_count": null,
   "source": "",
   "id": "5be1d0ff7d6416e9"
  }
 ],
 "metadata": {
  "kernelspec": {
   "display_name": "Python 3",
   "language": "python",
   "name": "python3"
  },
  "language_info": {
   "codemirror_mode": {
    "name": "ipython",
    "version": 2
   },
   "file_extension": ".py",
   "mimetype": "text/x-python",
   "name": "python",
   "nbconvert_exporter": "python",
   "pygments_lexer": "ipython2",
   "version": "2.7.6"
  }
 },
 "nbformat": 4,
 "nbformat_minor": 5
}
