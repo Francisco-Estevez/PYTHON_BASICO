{
 "cells": [
  {
   "metadata": {},
   "cell_type": "markdown",
   "source": [
    "# La sentencia while\n",
    "while es una sentencia de control que permite ejecutar una porción de código de forma repetitiva mientras se cumpla una condición"
   ],
   "id": "599f21107a83e9ff"
  },
  {
   "metadata": {},
   "cell_type": "code",
   "outputs": [],
   "execution_count": null,
   "source": [
    "while condicion:\n",
    "    # Línea 1 a ejecutar\n",
    "    # Línea 2 a ejecutar\n",
    "    # Línea 3 a ejecutar\n",
    "    # ....\n",
    "    # Línea n a ejecutar"
   ],
   "id": "9f5baf1aaacc2e5f"
  },
  {
   "metadata": {},
   "cell_type": "markdown",
   "source": "# Ejemplos",
   "id": "e2c827e824240c02"
  },
  {
   "metadata": {},
   "cell_type": "code",
   "source": [
    "while True:\n",
    "    print(\"Ejecutando código\")\n",
    "    print(\"Ciclo infinito\")"
   ],
   "id": "b8b74bd27523d95b",
   "outputs": [],
   "execution_count": null
  },
  {
   "metadata": {
    "ExecuteTime": {
     "end_time": "2025-01-15T01:41:47.383951Z",
     "start_time": "2025-01-15T01:41:47.377846Z"
    }
   },
   "cell_type": "code",
   "source": [
    "while False:\n",
    "    print(\"Ejecutando código\")\n",
    "    print(\"Ciclo infinito\")"
   ],
   "id": "e279809dd5fb5961",
   "outputs": [],
   "execution_count": 2
  },
  {
   "metadata": {},
   "cell_type": "code",
   "outputs": [],
   "execution_count": null,
   "source": "",
   "id": "fa83c77f449c29e6"
  }
 ],
 "metadata": {
  "kernelspec": {
   "display_name": "Python 3",
   "language": "python",
   "name": "python3"
  },
  "language_info": {
   "codemirror_mode": {
    "name": "ipython",
    "version": 2
   },
   "file_extension": ".py",
   "mimetype": "text/x-python",
   "name": "python",
   "nbconvert_exporter": "python",
   "pygments_lexer": "ipython2",
   "version": "2.7.6"
  }
 },
 "nbformat": 4,
 "nbformat_minor": 5
}
