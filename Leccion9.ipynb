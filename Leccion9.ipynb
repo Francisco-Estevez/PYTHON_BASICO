{
 "cells": [
  {
   "metadata": {},
   "cell_type": "markdown",
   "source": "# Práctica 2: Leyendo datos desde el teclado y manejo de errores",
   "id": "30b3f88c975446ee"
  },
  {
   "metadata": {},
   "cell_type": "markdown",
   "source": [
    "Se creará un programa que cumpla con los requisitos mencionados a continuación:\n",
    "1. Debe aceptar tres variables de entrada numérica introducida por el usuario desde el teclado (a,b,c)\n",
    "2. Debe imprimir en pantalla una tabla similar a la siguiente:\n",
    "\n",
    "a,b,c  5,2,10\n",
    "a+b+c  17\n",
    "a*b*c  -7\n",
    "a*b/c  100"
   ],
   "id": "d235891bb4c0a70c"
  },
  {
   "metadata": {},
   "cell_type": "markdown",
   "source": "## 1- Entrada de datos desde el teclado",
   "id": "3119413bb0393ac5"
  },
  {
   "metadata": {
    "ExecuteTime": {
     "end_time": "2025-01-13T18:22:18.077940Z",
     "start_time": "2025-01-13T18:21:41.625462Z"
    }
   },
   "cell_type": "code",
   "source": [
    "a = input(\"Introduce el valor de a: \")\n",
    "b = input(\"Introduce el valor de b: \")\n",
    "c = input(\"Introduce el valor de c: \")"
   ],
   "id": "7a29e4cecbd668fc",
   "outputs": [],
   "execution_count": 7
  },
  {
   "metadata": {},
   "cell_type": "markdown",
   "source": "## 2- Realizar los calculos correspondientes",
   "id": "b651e2a5131bb5c"
  },
  {
   "metadata": {
    "ExecuteTime": {
     "end_time": "2025-01-13T18:22:18.130849Z",
     "start_time": "2025-01-13T18:22:18.105675Z"
    }
   },
   "cell_type": "code",
   "source": [
    "suma = a + b + c\n",
    "multip = a * b * c\n",
    "multip_div = a * b / c"
   ],
   "id": "f673012244ee61b4",
   "outputs": [
    {
     "ename": "TypeError",
     "evalue": "can't multiply sequence by non-int of type 'str'",
     "output_type": "error",
     "traceback": [
      "\u001B[1;31m---------------------------------------------------------------------------\u001B[0m",
      "\u001B[1;31mTypeError\u001B[0m                                 Traceback (most recent call last)",
      "Cell \u001B[1;32mIn[8], line 2\u001B[0m\n\u001B[0;32m      1\u001B[0m suma \u001B[38;5;241m=\u001B[39m a \u001B[38;5;241m+\u001B[39m b \u001B[38;5;241m+\u001B[39m c\n\u001B[1;32m----> 2\u001B[0m multip \u001B[38;5;241m=\u001B[39m \u001B[43ma\u001B[49m\u001B[43m \u001B[49m\u001B[38;5;241;43m*\u001B[39;49m\u001B[43m \u001B[49m\u001B[43mb\u001B[49m \u001B[38;5;241m*\u001B[39m c\n\u001B[0;32m      3\u001B[0m multip_div \u001B[38;5;241m=\u001B[39m a \u001B[38;5;241m*\u001B[39m b \u001B[38;5;241m/\u001B[39m c\n",
      "\u001B[1;31mTypeError\u001B[0m: can't multiply sequence by non-int of type 'str'"
     ]
    }
   ],
   "execution_count": 8
  },
  {
   "metadata": {},
   "cell_type": "markdown",
   "source": "### 2.1 Corregir el error",
   "id": "47a99fbce467f7bb"
  },
  {
   "metadata": {
    "ExecuteTime": {
     "end_time": "2025-01-13T18:25:12.860694Z",
     "start_time": "2025-01-13T18:25:12.838834Z"
    }
   },
   "cell_type": "code",
   "source": [
    "type(a)\n",
    "type(b)\n",
    "type(c)"
   ],
   "id": "51e66cf29ce52bd2",
   "outputs": [
    {
     "data": {
      "text/plain": [
       "str"
      ]
     },
     "execution_count": 9,
     "metadata": {},
     "output_type": "execute_result"
    }
   ],
   "execution_count": 9
  },
  {
   "metadata": {},
   "cell_type": "markdown",
   "source": "### Nota: Aunque hemos almacenado un número en la variable, python está interpretando que son cadenas de texto (string o str). Si solamente utilizamos la función \"input\" python interpreta que el contenido es de tipo cadena de texto, por lo que debemos especificar si es un dato numérico de tipo entero \"int\" o flotante \"float\"",
   "id": "dd6d2014593694d1"
  },
  {
   "metadata": {},
   "cell_type": "code",
   "outputs": [],
   "execution_count": null,
   "source": "",
   "id": "4833bc247060ee13"
  }
 ],
 "metadata": {
  "kernelspec": {
   "display_name": "Python 3",
   "language": "python",
   "name": "python3"
  },
  "language_info": {
   "codemirror_mode": {
    "name": "ipython",
    "version": 2
   },
   "file_extension": ".py",
   "mimetype": "text/x-python",
   "name": "python",
   "nbconvert_exporter": "python",
   "pygments_lexer": "ipython2",
   "version": "2.7.6"
  }
 },
 "nbformat": 4,
 "nbformat_minor": 5
}
