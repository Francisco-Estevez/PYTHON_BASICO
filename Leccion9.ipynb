{
 "cells": [
  {
   "metadata": {},
   "cell_type": "markdown",
   "source": "# Práctica 2: Leyendo datos desde el teclado y manejo de errores",
   "id": "30b3f88c975446ee"
  },
  {
   "metadata": {},
   "cell_type": "markdown",
   "source": [
    "Se creará un programa que cumpla con los requisitos mencionados a continuación:\n",
    "1. Debe aceptar tres variables de entrada numérica introducida por el usuario desde el teclado (a,b,c)\n",
    "2. Debe imprimir en pantalla una tabla similar a la siguiente:\n",
    "\n",
    "a,b,c  5,2,10\n",
    "a+b+c  17\n",
    "a*b*c  -7\n",
    "a*b/c  100"
   ],
   "id": "d235891bb4c0a70c"
  },
  {
   "metadata": {},
   "cell_type": "markdown",
   "source": "## 1- Entrada de datos desde el teclado",
   "id": "3119413bb0393ac5"
  },
  {
   "metadata": {
    "ExecuteTime": {
     "end_time": "2025-01-13T18:47:03.257116Z",
     "start_time": "2025-01-13T18:46:23.746151Z"
    }
   },
   "cell_type": "code",
   "source": [
    "a = input(\"Introduce el valor de a: \")\n",
    "b = input(\"Introduce el valor de b: \")\n",
    "c = input(\"Introduce el valor de c: \")"
   ],
   "id": "7a29e4cecbd668fc",
   "outputs": [],
   "execution_count": 16
  },
  {
   "metadata": {},
   "cell_type": "markdown",
   "source": "## 2- Realizar los calculos correspondientes",
   "id": "b651e2a5131bb5c"
  },
  {
   "metadata": {
    "ExecuteTime": {
     "end_time": "2025-01-13T18:47:19.291136Z",
     "start_time": "2025-01-13T18:47:19.277880Z"
    }
   },
   "cell_type": "code",
   "source": "float(a)",
   "id": "1db65d3ee0b84ddf",
   "outputs": [
    {
     "data": {
      "text/plain": [
       "7.3"
      ]
     },
     "execution_count": 18,
     "metadata": {},
     "output_type": "execute_result"
    }
   ],
   "execution_count": 18
  },
  {
   "metadata": {
    "ExecuteTime": {
     "end_time": "2025-01-13T18:47:42.827407Z",
     "start_time": "2025-01-13T18:47:42.821884Z"
    }
   },
   "cell_type": "code",
   "source": "float(b)",
   "id": "25f111b87c9a8b3f",
   "outputs": [
    {
     "data": {
      "text/plain": [
       "12.1"
      ]
     },
     "execution_count": 20,
     "metadata": {},
     "output_type": "execute_result"
    }
   ],
   "execution_count": 20
  },
  {
   "metadata": {
    "ExecuteTime": {
     "end_time": "2025-01-13T18:47:40.769805Z",
     "start_time": "2025-01-13T18:47:40.760378Z"
    }
   },
   "cell_type": "code",
   "source": "float(c)",
   "id": "b9c5713315d69147",
   "outputs": [
    {
     "data": {
      "text/plain": [
       "6.7"
      ]
     },
     "execution_count": 19,
     "metadata": {},
     "output_type": "execute_result"
    }
   ],
   "execution_count": 19
  },
  {
   "metadata": {
    "ExecuteTime": {
     "end_time": "2025-01-13T18:22:18.130849Z",
     "start_time": "2025-01-13T18:22:18.105675Z"
    }
   },
   "cell_type": "code",
   "source": [
    "suma = a + b + c\n",
    "multip = a * b * c\n",
    "multip_div = a * b / c"
   ],
   "id": "f673012244ee61b4",
   "outputs": [
    {
     "ename": "TypeError",
     "evalue": "can't multiply sequence by non-int of type 'str'",
     "output_type": "error",
     "traceback": [
      "\u001B[1;31m---------------------------------------------------------------------------\u001B[0m",
      "\u001B[1;31mTypeError\u001B[0m                                 Traceback (most recent call last)",
      "Cell \u001B[1;32mIn[8], line 2\u001B[0m\n\u001B[0;32m      1\u001B[0m suma \u001B[38;5;241m=\u001B[39m a \u001B[38;5;241m+\u001B[39m b \u001B[38;5;241m+\u001B[39m c\n\u001B[1;32m----> 2\u001B[0m multip \u001B[38;5;241m=\u001B[39m \u001B[43ma\u001B[49m\u001B[43m \u001B[49m\u001B[38;5;241;43m*\u001B[39;49m\u001B[43m \u001B[49m\u001B[43mb\u001B[49m \u001B[38;5;241m*\u001B[39m c\n\u001B[0;32m      3\u001B[0m multip_div \u001B[38;5;241m=\u001B[39m a \u001B[38;5;241m*\u001B[39m b \u001B[38;5;241m/\u001B[39m c\n",
      "\u001B[1;31mTypeError\u001B[0m: can't multiply sequence by non-int of type 'str'"
     ]
    }
   ],
   "execution_count": 8
  },
  {
   "metadata": {},
   "cell_type": "markdown",
   "source": "### 2.1 Corregir el error",
   "id": "47a99fbce467f7bb"
  },
  {
   "metadata": {
    "ExecuteTime": {
     "end_time": "2025-01-13T18:25:12.860694Z",
     "start_time": "2025-01-13T18:25:12.838834Z"
    }
   },
   "cell_type": "code",
   "source": [
    "type(a)\n",
    "type(b)\n",
    "type(c)"
   ],
   "id": "51e66cf29ce52bd2",
   "outputs": [
    {
     "data": {
      "text/plain": [
       "str"
      ]
     },
     "execution_count": 9,
     "metadata": {},
     "output_type": "execute_result"
    }
   ],
   "execution_count": 9
  },
  {
   "metadata": {},
   "cell_type": "markdown",
   "source": "### Nota: Aunque hemos almacenado un número en las variables a, b y c, python está interpretando que son cadenas de texto (string o str). Pues, si solamente utilizamos la función \"input\" python interpreta que el contenido es de tipo cadena de texto, por lo que, debemos especificar si es un dato numérico de tipo entero \"int\" o flotante \"float\" al ingresar la variable. Además, si nos fijamos en la suma lo que se está realizando es una concatenación, pues los datos como dijimos son de tipo cadenas de textos\n",
   "id": "dd6d2014593694d1"
  },
  {
   "metadata": {
    "ExecuteTime": {
     "end_time": "2025-01-13T18:36:06.464893Z",
     "start_time": "2025-01-13T18:36:06.456318Z"
    }
   },
   "cell_type": "code",
   "source": [
    "## Ejemplo de que se está concatenando en vez de sumar\n",
    "print(suma)"
   ],
   "id": "4833bc247060ee13",
   "outputs": [
    {
     "name": "stdout",
     "output_type": "stream",
     "text": [
      "7.312.16.7\n"
     ]
    }
   ],
   "execution_count": 10
  },
  {
   "metadata": {},
   "cell_type": "markdown",
   "source": "## Convirtiendo las variables de cadenas de texto a numéricas: Después de la sección 2- Realizar los calculos correspondientes, se introducira el tipo de variable llamado \"float\" que cambiara las variables a numéricas. Ejemplo: float(a), float(b), float(c)",
   "id": "bf1ddae3c0fa5037"
  }
 ],
 "metadata": {
  "kernelspec": {
   "display_name": "Python 3",
   "language": "python",
   "name": "python3"
  },
  "language_info": {
   "codemirror_mode": {
    "name": "ipython",
    "version": 2
   },
   "file_extension": ".py",
   "mimetype": "text/x-python",
   "name": "python",
   "nbconvert_exporter": "python",
   "pygments_lexer": "ipython2",
   "version": "2.7.6"
  }
 },
 "nbformat": 4,
 "nbformat_minor": 5
}
