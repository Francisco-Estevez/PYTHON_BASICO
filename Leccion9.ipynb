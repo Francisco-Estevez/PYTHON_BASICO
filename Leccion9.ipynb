{
 "cells": [
  {
   "metadata": {},
   "cell_type": "markdown",
   "source": "# Práctica 2: Leyendo datos desde el teclado y manejo de errores",
   "id": "30b3f88c975446ee"
  },
  {
   "metadata": {},
   "cell_type": "markdown",
   "source": [
    "Se creará un programa que cumpla con los requisitos mencionados a continuación:\n",
    "1. Debe aceptar tres variables de entrada numérica introducida por el usuario desde el teclado (a,b,c)\n",
    "2. Debe imprimir en pantalla una tabla similar a la siguiente:\n",
    "\n",
    "a,b,c  5,2,10\n",
    "a+b+c  17\n",
    "a*b*c  -7\n",
    "a*b/c  100"
   ],
   "id": "d235891bb4c0a70c"
  },
  {
   "metadata": {},
   "cell_type": "markdown",
   "source": "## 1- Entrada de datos desde el teclado",
   "id": "3119413bb0393ac5"
  },
  {
   "metadata": {
    "ExecuteTime": {
     "end_time": "2025-01-13T19:05:45.280805Z",
     "start_time": "2025-01-13T19:05:14.834339Z"
    }
   },
   "cell_type": "code",
   "source": [
    "a = input(\"Introduce el valor de a: \")\n",
    "b = input(\"Introduce el valor de b: \")\n",
    "c = input(\"Introduce el valor de c: \")"
   ],
   "id": "7a29e4cecbd668fc",
   "outputs": [],
   "execution_count": 34
  },
  {
   "metadata": {},
   "cell_type": "markdown",
   "source": "## 2- Realizar los calculos correspondientes",
   "id": "b651e2a5131bb5c"
  },
  {
   "metadata": {},
   "cell_type": "code",
   "source": [
    "a = float(a)\n",
    "b = float(b)\n",
    "c = float(c)"
   ],
   "id": "1db65d3ee0b84ddf",
   "outputs": [],
   "execution_count": 35
  },
  {
   "metadata": {
    "ExecuteTime": {
     "end_time": "2025-01-13T19:06:35.830042Z",
     "start_time": "2025-01-13T19:06:35.826706Z"
    }
   },
   "cell_type": "code",
   "source": "suma = a + b + c",
   "id": "f673012244ee61b4",
   "outputs": [],
   "execution_count": 40
  },
  {
   "metadata": {
    "ExecuteTime": {
     "end_time": "2025-01-13T19:06:37.592780Z",
     "start_time": "2025-01-13T19:06:37.588386Z"
    }
   },
   "cell_type": "code",
   "source": "multipl = a * b * c",
   "id": "3ab043b402e5dad5",
   "outputs": [],
   "execution_count": 41
  },
  {
   "metadata": {
    "ExecuteTime": {
     "end_time": "2025-01-13T19:06:42.278010Z",
     "start_time": "2025-01-13T19:06:42.272399Z"
    }
   },
   "cell_type": "code",
   "source": "multipl_div = a * b / c",
   "id": "e8c340d605585c06",
   "outputs": [],
   "execution_count": 43
  },
  {
   "metadata": {},
   "cell_type": "markdown",
   "source": "### 2.1 Corregir el error",
   "id": "47a99fbce467f7bb"
  },
  {
   "metadata": {
    "ExecuteTime": {
     "end_time": "2025-01-13T19:05:45.461819Z",
     "start_time": "2025-01-13T19:05:45.454837Z"
    }
   },
   "cell_type": "code",
   "source": [
    "type(a)\n",
    "type(b)\n",
    "type(c)"
   ],
   "id": "51e66cf29ce52bd2",
   "outputs": [
    {
     "data": {
      "text/plain": [
       "float"
      ]
     },
     "execution_count": 37,
     "metadata": {},
     "output_type": "execute_result"
    }
   ],
   "execution_count": 37
  },
  {
   "metadata": {},
   "cell_type": "markdown",
   "source": "### Nota: Aunque hemos almacenado un número en las variables a, b y c, python está interpretando que son cadenas de texto (string o str). Pues, si solamente utilizamos la función \"input\" python interpreta que el contenido es de tipo cadena de texto, por lo que, debemos especificar si es un dato numérico de tipo entero \"int\" o flotante \"float\" al ingresar la variable. Además, si nos fijamos en la suma lo que se está realizando es una concatenación, pues los datos como dijimos son de tipo cadenas de textos\n",
   "id": "dd6d2014593694d1"
  },
  {
   "metadata": {
    "ExecuteTime": {
     "end_time": "2025-01-13T19:05:45.476376Z",
     "start_time": "2025-01-13T19:05:45.472086Z"
    }
   },
   "cell_type": "code",
   "source": [
    "## Ejemplo de que se está concatenando en vez de sumar\n",
    "print(suma)"
   ],
   "id": "4833bc247060ee13",
   "outputs": [
    {
     "name": "stdout",
     "output_type": "stream",
     "text": [
      "26.099999999999998\n"
     ]
    }
   ],
   "execution_count": 38
  },
  {
   "metadata": {
    "ExecuteTime": {
     "end_time": "2025-01-13T19:08:33.612269Z",
     "start_time": "2025-01-13T19:08:33.606537Z"
    }
   },
   "cell_type": "code",
   "source": "print(multipl)",
   "id": "a73382c75647d31c",
   "outputs": [
    {
     "name": "stdout",
     "output_type": "stream",
     "text": [
      "591.811\n"
     ]
    }
   ],
   "execution_count": 44
  },
  {
   "metadata": {
    "ExecuteTime": {
     "end_time": "2025-01-13T19:08:38.258300Z",
     "start_time": "2025-01-13T19:08:38.253514Z"
    }
   },
   "cell_type": "code",
   "source": "print(multipl_div)",
   "id": "f6cc9150d4ca4c2b",
   "outputs": [
    {
     "name": "stdout",
     "output_type": "stream",
     "text": [
      "13.183582089552239\n"
     ]
    }
   ],
   "execution_count": 45
  },
  {
   "metadata": {},
   "cell_type": "markdown",
   "source": "## Convirtiendo las variables de cadenas de texto a numéricas: Después de la sección 2- Realizar los calculos correspondientes, se introducira el tipo de variable llamado \"float\" que cambiara las variables a numéricas. Ejemplo: float(a), float(b), float(c)",
   "id": "bf1ddae3c0fa5037"
  }
 ],
 "metadata": {
  "kernelspec": {
   "display_name": "Python 3",
   "language": "python",
   "name": "python3"
  },
  "language_info": {
   "codemirror_mode": {
    "name": "ipython",
    "version": 2
   },
   "file_extension": ".py",
   "mimetype": "text/x-python",
   "name": "python",
   "nbconvert_exporter": "python",
   "pygments_lexer": "ipython2",
   "version": "2.7.6"
  }
 },
 "nbformat": 4,
 "nbformat_minor": 5
}
